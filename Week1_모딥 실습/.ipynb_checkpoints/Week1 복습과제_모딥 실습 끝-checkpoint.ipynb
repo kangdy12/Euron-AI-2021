{
 "cells": [
  {
   "cell_type": "markdown",
   "metadata": {},
   "source": [
    "## 10.1.(3)MNIST_nn_dropout"
   ]
  },
  {
   "cell_type": "code",
   "execution_count": 1,
   "metadata": {},
   "outputs": [],
   "source": [
    "import tensorflow as tf\n",
    "import numpy as np\n",
    "from tensorflow.keras.utils import to_categorical\n",
    "from tensorflow.keras.datasets import mnist\n",
    "from time import time\n",
    "import os"
   ]
  },
  {
   "cell_type": "code",
   "execution_count": 2,
   "metadata": {},
   "outputs": [],
   "source": [
    "def load(model, checkpoint_dir):\n",
    "    print(\" [*] Reading checkpoints...\")\n",
    "\n",
    "    ckpt = tf.train.get_checkpoint_state(checkpoint_dir)\n",
    "    if ckpt :\n",
    "        ckpt_name = os.path.basename(ckpt.model_checkpoint_path)\n",
    "        checkpoint = tf.train.Checkpoint(dnn=model)\n",
    "        checkpoint.restore(save_path=os.path.join(checkpoint_dir, ckpt_name))\n",
    "        counter = int(ckpt_name.split('-')[1])\n",
    "        print(\" [*] Success to read {}\".format(ckpt_name))\n",
    "        return True, counter\n",
    "    else:\n",
    "        print(\" [*] Failed to find a checkpoint\")\n",
    "        return False, 0\n",
    "\n",
    "def check_folder(dir):\n",
    "    if not os.path.exists(dir):\n",
    "        os.makedirs(dir)\n",
    "    return dir"
   ]
  },
  {
   "cell_type": "code",
   "execution_count": 3,
   "metadata": {},
   "outputs": [],
   "source": [
    "def load_mnist() :\n",
    "    (train_data, train_labels), (test_data, test_labels) = mnist.load_data()\n",
    "    train_data = np.expand_dims(train_data, axis=-1) # [N, 28, 28] -> [N, 28, 28, 1]\n",
    "    test_data = np.expand_dims(test_data, axis=-1) # [N, 28, 28] -> [N, 28, 28, 1]\n",
    "\n",
    "    train_data, test_data = normalize(train_data, test_data)\n",
    "\n",
    "    train_labels = to_categorical(train_labels, 10) # [N,] -> [N, 10]\n",
    "    test_labels = to_categorical(test_labels, 10) # [N,] -> [N, 10]\n",
    "\n",
    "    return train_data, train_labels, test_data, test_labels\n",
    "\n",
    "def normalize(train_data, test_data):\n",
    "    train_data = train_data.astype(np.float32) / 255.0\n",
    "    test_data = test_data.astype(np.float32) / 255.0\n",
    "\n",
    "    return train_data, test_data"
   ]
  },
  {
   "cell_type": "code",
   "execution_count": 4,
   "metadata": {},
   "outputs": [],
   "source": [
    "def loss_fn(model, images, labels):\n",
    "    logits = model(images, training=True)\n",
    "    loss = tf.reduce_mean(tf.keras.losses.categorical_crossentropy(y_pred=logits, y_true=labels, \n",
    "                                                                   from_logits=True))\n",
    "    return loss\n",
    "\n",
    "def accuracy_fn(model, images, labels):\n",
    "    logits = model(images, training=False)\n",
    "    prediction = tf.equal(tf.argmax(logits, -1), tf.argmax(labels, -1))\n",
    "    accuracy = tf.reduce_mean(tf.cast(prediction, tf.float32))\n",
    "    return accuracy\n",
    "\n",
    "def grad(model, images, labels):\n",
    "    with tf.GradientTape() as tape:\n",
    "        loss = loss_fn(model, images, labels)\n",
    "    return tape.gradient(loss, model.variables)"
   ]
  },
  {
   "cell_type": "markdown",
   "metadata": {},
   "source": [
    "### Model function"
   ]
  },
  {
   "cell_type": "code",
   "execution_count": 5,
   "metadata": {},
   "outputs": [],
   "source": [
    "def flatten() :\n",
    "    return tf.keras.layers.Flatten()\n",
    "\n",
    "def dense(label_dim, weight_init) :\n",
    "    return tf.keras.layers.Dense(units=label_dim, use_bias=True, kernel_initializer=weight_init)\n",
    "\n",
    "def relu() :\n",
    "    return tf.keras.layers.Activation(tf.keras.activations.relu)\n",
    "\n",
    "def dropout(rate) :\n",
    "    return tf.keras.layers.Dropout(rate)"
   ]
  },
  {
   "cell_type": "code",
   "execution_count": 6,
   "metadata": {},
   "outputs": [],
   "source": [
    "def create_model_function(label_dim) :\n",
    "    weight_init = tf.keras.initializers.glorot_uniform()\n",
    "\n",
    "    model = tf.keras.Sequential()\n",
    "    model.add(flatten())\n",
    "\n",
    "    for i in range(4) :\n",
    "        model.add(dense(512, weight_init))\n",
    "        model.add(relu())\n",
    "        model.add(dropout(rate=0.5))\n",
    "\n",
    "    model.add(dense(label_dim, weight_init))\n",
    "\n",
    "    return model"
   ]
  },
  {
   "cell_type": "code",
   "execution_count": 7,
   "metadata": {},
   "outputs": [],
   "source": [
    "\"\"\" dataset \"\"\"\n",
    "train_x, train_y, test_x, test_y = load_mnist()\n",
    "\n",
    "\"\"\" parameters \"\"\"\n",
    "learning_rate = 0.001\n",
    "batch_size = 128\n",
    "\n",
    "training_epochs = 1\n",
    "training_iterations = len(train_x) // batch_size\n",
    "\n",
    "label_dim = 10\n",
    "\n",
    "train_flag = True\n",
    "\n",
    "\"\"\" Graph Input using Dataset API \"\"\"\n",
    "train_dataset = tf.data.Dataset.from_tensor_slices((train_x, train_y)).\\\n",
    "    shuffle(buffer_size=100000).\\\n",
    "    prefetch(buffer_size=batch_size).\\\n",
    "    batch(batch_size, drop_remainder=True)\n",
    "\n",
    "test_dataset = tf.data.Dataset.from_tensor_slices((test_x, test_y)).\\\n",
    "    shuffle(buffer_size=100000).\\\n",
    "    prefetch(buffer_size=len(test_x)).\\\n",
    "    batch(len(test_x))"
   ]
  },
  {
   "cell_type": "code",
   "execution_count": 8,
   "metadata": {},
   "outputs": [],
   "source": [
    "\"\"\" Model \"\"\"\n",
    "network = create_model_function(label_dim)\n",
    "\n",
    "\"\"\" Training \"\"\"\n",
    "optimizer = tf.keras.optimizers.Adam(learning_rate=learning_rate)\n",
    "\n",
    "\"\"\" Writer \"\"\"\n",
    "checkpoint_dir = 'checkpoints'\n",
    "logs_dir = 'logs'\n",
    "\n",
    "model_dir = 'nn_dropout'\n",
    "\n",
    "checkpoint_dir = os.path.join(checkpoint_dir, model_dir)\n",
    "check_folder(checkpoint_dir)\n",
    "checkpoint_prefix = os.path.join(checkpoint_dir, model_dir)\n",
    "logs_dir = os.path.join(logs_dir, model_dir)"
   ]
  },
  {
   "cell_type": "code",
   "execution_count": 10,
   "metadata": {},
   "outputs": [
    {
     "name": "stdout",
     "output_type": "stream",
     "text": [
      " [*] Reading checkpoints...\n",
      " [*] Failed to find a checkpoint\n",
      " [!] Load failed...\n",
      "Epoch: [ 0] [    0/  468] time: 1.7312, train_loss: 2.35965991, train_accuracy: 0.1641, test_Accuracy: 0.1209\n",
      "Epoch: [ 0] [    1/  468] time: 2.2353, train_loss: 2.33694649, train_accuracy: 0.2109, test_Accuracy: 0.1581\n",
      "Epoch: [ 0] [    2/  468] time: 2.7366, train_loss: 2.25553727, train_accuracy: 0.1875, test_Accuracy: 0.1671\n",
      "Epoch: [ 0] [    3/  468] time: 3.2903, train_loss: 2.27149439, train_accuracy: 0.1875, test_Accuracy: 0.1780\n",
      "Epoch: [ 0] [    4/  468] time: 3.8138, train_loss: 2.24693751, train_accuracy: 0.2578, test_Accuracy: 0.2461\n",
      "Epoch: [ 0] [    5/  468] time: 4.3574, train_loss: 2.30687642, train_accuracy: 0.3359, test_Accuracy: 0.3648\n",
      "Epoch: [ 0] [    6/  468] time: 5.0078, train_loss: 2.17395926, train_accuracy: 0.4766, test_Accuracy: 0.4605\n",
      "Epoch: [ 0] [    7/  468] time: 5.5890, train_loss: 2.19881487, train_accuracy: 0.5234, test_Accuracy: 0.5164\n",
      "Epoch: [ 0] [    8/  468] time: 6.1567, train_loss: 2.21976805, train_accuracy: 0.5547, test_Accuracy: 0.5591\n",
      "Epoch: [ 0] [    9/  468] time: 6.7478, train_loss: 2.22223568, train_accuracy: 0.6328, test_Accuracy: 0.6150\n",
      "Epoch: [ 0] [   10/  468] time: 7.3176, train_loss: 2.15391588, train_accuracy: 0.5859, test_Accuracy: 0.6475\n",
      "Epoch: [ 0] [   11/  468] time: 7.8465, train_loss: 2.04997849, train_accuracy: 0.6484, test_Accuracy: 0.6429\n",
      "Epoch: [ 0] [   12/  468] time: 8.4033, train_loss: 2.14647102, train_accuracy: 0.6094, test_Accuracy: 0.6272\n",
      "Epoch: [ 0] [   13/  468] time: 8.9446, train_loss: 2.04852438, train_accuracy: 0.6484, test_Accuracy: 0.6257\n",
      "Epoch: [ 0] [   14/  468] time: 9.4342, train_loss: 2.09344792, train_accuracy: 0.5625, test_Accuracy: 0.6228\n",
      "Epoch: [ 0] [   15/  468] time: 9.9035, train_loss: 1.92683101, train_accuracy: 0.6094, test_Accuracy: 0.6287\n",
      "Epoch: [ 0] [   16/  468] time: 10.4128, train_loss: 1.87249470, train_accuracy: 0.6562, test_Accuracy: 0.6186\n",
      "Epoch: [ 0] [   17/  468] time: 10.9459, train_loss: 1.97604585, train_accuracy: 0.6094, test_Accuracy: 0.6213\n",
      "Epoch: [ 0] [   18/  468] time: 11.4750, train_loss: 1.94881392, train_accuracy: 0.5859, test_Accuracy: 0.6238\n",
      "Epoch: [ 0] [   19/  468] time: 12.0270, train_loss: 1.82835364, train_accuracy: 0.6250, test_Accuracy: 0.6109\n",
      "Epoch: [ 0] [   20/  468] time: 12.5873, train_loss: 1.75359821, train_accuracy: 0.5703, test_Accuracy: 0.6089\n",
      "Epoch: [ 0] [   21/  468] time: 13.0998, train_loss: 1.75251031, train_accuracy: 0.5703, test_Accuracy: 0.6195\n",
      "Epoch: [ 0] [   22/  468] time: 13.6580, train_loss: 1.77407718, train_accuracy: 0.5938, test_Accuracy: 0.6527\n",
      "Epoch: [ 0] [   23/  468] time: 14.2047, train_loss: 1.58939505, train_accuracy: 0.7578, test_Accuracy: 0.6741\n",
      "Epoch: [ 0] [   24/  468] time: 14.9102, train_loss: 1.53816390, train_accuracy: 0.6797, test_Accuracy: 0.6991\n",
      "Epoch: [ 0] [   25/  468] time: 15.5301, train_loss: 1.58488965, train_accuracy: 0.6953, test_Accuracy: 0.7229\n",
      "Epoch: [ 0] [   26/  468] time: 16.1132, train_loss: 1.33884740, train_accuracy: 0.7734, test_Accuracy: 0.7313\n",
      "Epoch: [ 0] [   27/  468] time: 16.6694, train_loss: 1.35347223, train_accuracy: 0.7734, test_Accuracy: 0.7290\n",
      "Epoch: [ 0] [   28/  468] time: 17.2659, train_loss: 1.28325796, train_accuracy: 0.7344, test_Accuracy: 0.7203\n",
      "Epoch: [ 0] [   29/  468] time: 17.8183, train_loss: 1.34364939, train_accuracy: 0.7031, test_Accuracy: 0.7148\n",
      "Epoch: [ 0] [   30/  468] time: 18.3485, train_loss: 1.28532112, train_accuracy: 0.7109, test_Accuracy: 0.7132\n",
      "Epoch: [ 0] [   31/  468] time: 18.9446, train_loss: 1.25468588, train_accuracy: 0.7188, test_Accuracy: 0.7224\n",
      "Epoch: [ 0] [   32/  468] time: 19.5999, train_loss: 1.39133072, train_accuracy: 0.6875, test_Accuracy: 0.7328\n",
      "Epoch: [ 0] [   33/  468] time: 20.2340, train_loss: 1.30727625, train_accuracy: 0.7188, test_Accuracy: 0.7304\n",
      "Epoch: [ 0] [   34/  468] time: 20.9358, train_loss: 1.18913996, train_accuracy: 0.7266, test_Accuracy: 0.7339\n",
      "Epoch: [ 0] [   35/  468] time: 21.7158, train_loss: 1.03027344, train_accuracy: 0.7188, test_Accuracy: 0.7463\n",
      "Epoch: [ 0] [   36/  468] time: 22.3658, train_loss: 1.11732221, train_accuracy: 0.7969, test_Accuracy: 0.7549\n",
      "Epoch: [ 0] [   37/  468] time: 23.1956, train_loss: 1.18112373, train_accuracy: 0.7344, test_Accuracy: 0.7695\n",
      "Epoch: [ 0] [   38/  468] time: 23.9599, train_loss: 1.09367847, train_accuracy: 0.7656, test_Accuracy: 0.7978\n",
      "Epoch: [ 0] [   39/  468] time: 24.6252, train_loss: 1.05202544, train_accuracy: 0.8125, test_Accuracy: 0.8157\n",
      "Epoch: [ 0] [   40/  468] time: 25.4321, train_loss: 1.14403868, train_accuracy: 0.7734, test_Accuracy: 0.8122\n",
      "Epoch: [ 0] [   41/  468] time: 26.1320, train_loss: 0.93798184, train_accuracy: 0.7422, test_Accuracy: 0.8042\n",
      "Epoch: [ 0] [   42/  468] time: 26.7143, train_loss: 0.91903603, train_accuracy: 0.8047, test_Accuracy: 0.7933\n",
      "Epoch: [ 0] [   43/  468] time: 27.2722, train_loss: 0.87917268, train_accuracy: 0.7734, test_Accuracy: 0.7852\n",
      "Epoch: [ 0] [   44/  468] time: 27.9366, train_loss: 1.05978012, train_accuracy: 0.7812, test_Accuracy: 0.7869\n",
      "Epoch: [ 0] [   45/  468] time: 28.4389, train_loss: 0.92861849, train_accuracy: 0.7578, test_Accuracy: 0.7925\n",
      "Epoch: [ 0] [   46/  468] time: 28.9585, train_loss: 0.94175380, train_accuracy: 0.7969, test_Accuracy: 0.7967\n",
      "Epoch: [ 0] [   47/  468] time: 29.4625, train_loss: 0.82253295, train_accuracy: 0.8203, test_Accuracy: 0.7976\n",
      "Epoch: [ 0] [   48/  468] time: 29.9758, train_loss: 0.82216084, train_accuracy: 0.7969, test_Accuracy: 0.7987\n",
      "Epoch: [ 0] [   49/  468] time: 30.5012, train_loss: 0.89357781, train_accuracy: 0.7891, test_Accuracy: 0.8071\n",
      "Epoch: [ 0] [   50/  468] time: 31.0618, train_loss: 0.75670958, train_accuracy: 0.8203, test_Accuracy: 0.8209\n",
      "Epoch: [ 0] [   51/  468] time: 31.6438, train_loss: 0.96906495, train_accuracy: 0.7734, test_Accuracy: 0.8315\n",
      "Epoch: [ 0] [   52/  468] time: 32.2510, train_loss: 1.08268428, train_accuracy: 0.7969, test_Accuracy: 0.8445\n",
      "Epoch: [ 0] [   53/  468] time: 32.9155, train_loss: 0.94403905, train_accuracy: 0.8984, test_Accuracy: 0.8505\n",
      "Epoch: [ 0] [   54/  468] time: 33.5060, train_loss: 0.96359491, train_accuracy: 0.8594, test_Accuracy: 0.8578\n",
      "Epoch: [ 0] [   55/  468] time: 34.1240, train_loss: 0.84066576, train_accuracy: 0.8594, test_Accuracy: 0.8607\n",
      "Epoch: [ 0] [   56/  468] time: 34.6547, train_loss: 0.74946564, train_accuracy: 0.8672, test_Accuracy: 0.8614\n",
      "Epoch: [ 0] [   57/  468] time: 35.1989, train_loss: 0.67546237, train_accuracy: 0.8438, test_Accuracy: 0.8580\n",
      "Epoch: [ 0] [   58/  468] time: 35.6991, train_loss: 0.73116559, train_accuracy: 0.8984, test_Accuracy: 0.8479\n",
      "Epoch: [ 0] [   59/  468] time: 36.1842, train_loss: 0.71559578, train_accuracy: 0.8828, test_Accuracy: 0.8372\n",
      "Epoch: [ 0] [   60/  468] time: 36.6833, train_loss: 0.64041799, train_accuracy: 0.8359, test_Accuracy: 0.8349\n",
      "Epoch: [ 0] [   61/  468] time: 37.1766, train_loss: 0.63425648, train_accuracy: 0.8359, test_Accuracy: 0.8385\n",
      "Epoch: [ 0] [   62/  468] time: 37.7170, train_loss: 0.80749106, train_accuracy: 0.8438, test_Accuracy: 0.8492\n",
      "Epoch: [ 0] [   63/  468] time: 38.2221, train_loss: 0.63165188, train_accuracy: 0.8047, test_Accuracy: 0.8559\n",
      "Epoch: [ 0] [   64/  468] time: 38.7513, train_loss: 0.61961222, train_accuracy: 0.8984, test_Accuracy: 0.8617\n",
      "Epoch: [ 0] [   65/  468] time: 39.3196, train_loss: 0.58250916, train_accuracy: 0.9297, test_Accuracy: 0.8630\n",
      "Epoch: [ 0] [   66/  468] time: 39.8357, train_loss: 0.78542387, train_accuracy: 0.8516, test_Accuracy: 0.8675\n",
      "Epoch: [ 0] [   67/  468] time: 40.4751, train_loss: 0.70142865, train_accuracy: 0.8750, test_Accuracy: 0.8688\n",
      "Epoch: [ 0] [   68/  468] time: 40.9907, train_loss: 0.70616829, train_accuracy: 0.8750, test_Accuracy: 0.8726\n",
      "Epoch: [ 0] [   69/  468] time: 41.5622, train_loss: 0.66710669, train_accuracy: 0.8750, test_Accuracy: 0.8732\n",
      "Epoch: [ 0] [   70/  468] time: 42.0671, train_loss: 0.54323065, train_accuracy: 0.8672, test_Accuracy: 0.8742\n",
      "Epoch: [ 0] [   71/  468] time: 42.6518, train_loss: 0.82922190, train_accuracy: 0.8594, test_Accuracy: 0.8765\n",
      "Epoch: [ 0] [   72/  468] time: 43.1305, train_loss: 0.53613567, train_accuracy: 0.8828, test_Accuracy: 0.8754\n",
      "Epoch: [ 0] [   73/  468] time: 43.6658, train_loss: 0.40869331, train_accuracy: 0.9062, test_Accuracy: 0.8686\n"
     ]
    },
    {
     "name": "stdout",
     "output_type": "stream",
     "text": [
      "Epoch: [ 0] [   74/  468] time: 44.1483, train_loss: 0.67246383, train_accuracy: 0.8359, test_Accuracy: 0.8629\n",
      "Epoch: [ 0] [   75/  468] time: 44.6676, train_loss: 0.44955593, train_accuracy: 0.9062, test_Accuracy: 0.8624\n",
      "Epoch: [ 0] [   76/  468] time: 45.1438, train_loss: 0.70003152, train_accuracy: 0.8359, test_Accuracy: 0.8720\n",
      "Epoch: [ 0] [   77/  468] time: 45.6497, train_loss: 0.60039842, train_accuracy: 0.8672, test_Accuracy: 0.8832\n",
      "Epoch: [ 0] [   78/  468] time: 46.1558, train_loss: 0.67612255, train_accuracy: 0.8359, test_Accuracy: 0.8892\n",
      "Epoch: [ 0] [   79/  468] time: 46.6430, train_loss: 0.49864593, train_accuracy: 0.9141, test_Accuracy: 0.8895\n",
      "Epoch: [ 0] [   80/  468] time: 47.1458, train_loss: 0.52686203, train_accuracy: 0.9062, test_Accuracy: 0.8870\n",
      "Epoch: [ 0] [   81/  468] time: 47.6421, train_loss: 0.59143889, train_accuracy: 0.8906, test_Accuracy: 0.8774\n",
      "Epoch: [ 0] [   82/  468] time: 48.1413, train_loss: 0.72531074, train_accuracy: 0.8125, test_Accuracy: 0.8754\n",
      "Epoch: [ 0] [   83/  468] time: 48.6809, train_loss: 0.44217002, train_accuracy: 0.9297, test_Accuracy: 0.8782\n",
      "Epoch: [ 0] [   84/  468] time: 49.2201, train_loss: 0.72502935, train_accuracy: 0.8672, test_Accuracy: 0.8850\n",
      "Epoch: [ 0] [   85/  468] time: 49.7478, train_loss: 0.52355391, train_accuracy: 0.8750, test_Accuracy: 0.8929\n",
      "Epoch: [ 0] [   86/  468] time: 50.3135, train_loss: 0.63985020, train_accuracy: 0.9141, test_Accuracy: 0.8969\n",
      "Epoch: [ 0] [   87/  468] time: 50.8310, train_loss: 0.42195696, train_accuracy: 0.9219, test_Accuracy: 0.8986\n",
      "Epoch: [ 0] [   88/  468] time: 51.3344, train_loss: 0.48627263, train_accuracy: 0.9062, test_Accuracy: 0.8967\n",
      "Epoch: [ 0] [   89/  468] time: 51.8540, train_loss: 0.65017462, train_accuracy: 0.9062, test_Accuracy: 0.8943\n",
      "Epoch: [ 0] [   90/  468] time: 52.3667, train_loss: 0.59200734, train_accuracy: 0.8672, test_Accuracy: 0.8943\n",
      "Epoch: [ 0] [   91/  468] time: 52.8191, train_loss: 0.47319070, train_accuracy: 0.8828, test_Accuracy: 0.8956\n",
      "Epoch: [ 0] [   92/  468] time: 53.3010, train_loss: 0.47019196, train_accuracy: 0.9219, test_Accuracy: 0.8975\n",
      "Epoch: [ 0] [   93/  468] time: 53.8004, train_loss: 0.39348653, train_accuracy: 0.9297, test_Accuracy: 0.9012\n",
      "Epoch: [ 0] [   94/  468] time: 54.2864, train_loss: 0.56248033, train_accuracy: 0.8906, test_Accuracy: 0.9044\n",
      "Epoch: [ 0] [   95/  468] time: 54.7952, train_loss: 0.44051254, train_accuracy: 0.8984, test_Accuracy: 0.9048\n",
      "Epoch: [ 0] [   96/  468] time: 55.2969, train_loss: 0.50624412, train_accuracy: 0.8984, test_Accuracy: 0.9033\n",
      "Epoch: [ 0] [   97/  468] time: 55.7685, train_loss: 0.74754131, train_accuracy: 0.8516, test_Accuracy: 0.8995\n",
      "Epoch: [ 0] [   98/  468] time: 56.2468, train_loss: 0.50452518, train_accuracy: 0.8828, test_Accuracy: 0.8988\n",
      "Epoch: [ 0] [   99/  468] time: 56.7315, train_loss: 0.48274201, train_accuracy: 0.9297, test_Accuracy: 0.9012\n",
      "Epoch: [ 0] [  100/  468] time: 57.2269, train_loss: 0.63754243, train_accuracy: 0.8750, test_Accuracy: 0.9035\n",
      "Epoch: [ 0] [  101/  468] time: 57.7333, train_loss: 0.44753921, train_accuracy: 0.9297, test_Accuracy: 0.9081\n",
      "Epoch: [ 0] [  102/  468] time: 58.2593, train_loss: 0.47600111, train_accuracy: 0.9297, test_Accuracy: 0.9080\n",
      "Epoch: [ 0] [  103/  468] time: 58.7748, train_loss: 0.39469731, train_accuracy: 0.9219, test_Accuracy: 0.9057\n",
      "Epoch: [ 0] [  104/  468] time: 59.3392, train_loss: 0.59228551, train_accuracy: 0.8984, test_Accuracy: 0.9061\n",
      "Epoch: [ 0] [  105/  468] time: 59.8186, train_loss: 0.63012230, train_accuracy: 0.8516, test_Accuracy: 0.9079\n",
      "Epoch: [ 0] [  106/  468] time: 60.2928, train_loss: 0.43343160, train_accuracy: 0.9375, test_Accuracy: 0.9095\n",
      "Epoch: [ 0] [  107/  468] time: 60.7694, train_loss: 0.46858612, train_accuracy: 0.9062, test_Accuracy: 0.9112\n",
      "Epoch: [ 0] [  108/  468] time: 61.2391, train_loss: 0.37705898, train_accuracy: 0.9219, test_Accuracy: 0.9112\n",
      "Epoch: [ 0] [  109/  468] time: 61.7402, train_loss: 0.44952327, train_accuracy: 0.9297, test_Accuracy: 0.9126\n",
      "Epoch: [ 0] [  110/  468] time: 62.2491, train_loss: 0.52909476, train_accuracy: 0.9062, test_Accuracy: 0.9153\n",
      "Epoch: [ 0] [  111/  468] time: 62.6993, train_loss: 0.48250324, train_accuracy: 0.8906, test_Accuracy: 0.9160\n",
      "Epoch: [ 0] [  112/  468] time: 63.1759, train_loss: 0.36577195, train_accuracy: 0.9219, test_Accuracy: 0.9164\n",
      "Epoch: [ 0] [  113/  468] time: 63.6584, train_loss: 0.51039982, train_accuracy: 0.9062, test_Accuracy: 0.9168\n",
      "Epoch: [ 0] [  114/  468] time: 64.1574, train_loss: 0.39241397, train_accuracy: 0.9453, test_Accuracy: 0.9159\n",
      "Epoch: [ 0] [  115/  468] time: 64.6600, train_loss: 0.46086320, train_accuracy: 0.9141, test_Accuracy: 0.9156\n",
      "Epoch: [ 0] [  116/  468] time: 65.1499, train_loss: 0.54446411, train_accuracy: 0.9062, test_Accuracy: 0.9169\n",
      "Epoch: [ 0] [  117/  468] time: 65.6597, train_loss: 0.41849005, train_accuracy: 0.9219, test_Accuracy: 0.9157\n",
      "Epoch: [ 0] [  118/  468] time: 66.1946, train_loss: 0.44236422, train_accuracy: 0.9141, test_Accuracy: 0.9153\n",
      "Epoch: [ 0] [  119/  468] time: 66.7164, train_loss: 0.40049267, train_accuracy: 0.9453, test_Accuracy: 0.9139\n",
      "Epoch: [ 0] [  120/  468] time: 67.2418, train_loss: 0.37471455, train_accuracy: 0.9531, test_Accuracy: 0.9136\n",
      "Epoch: [ 0] [  121/  468] time: 67.7544, train_loss: 0.58069867, train_accuracy: 0.9219, test_Accuracy: 0.9123\n",
      "Epoch: [ 0] [  122/  468] time: 68.2905, train_loss: 0.44869927, train_accuracy: 0.9297, test_Accuracy: 0.9127\n",
      "Epoch: [ 0] [  123/  468] time: 68.7837, train_loss: 0.43630874, train_accuracy: 0.9062, test_Accuracy: 0.9138\n",
      "Epoch: [ 0] [  124/  468] time: 69.3201, train_loss: 0.35793415, train_accuracy: 0.9219, test_Accuracy: 0.9173\n",
      "Epoch: [ 0] [  125/  468] time: 69.7792, train_loss: 0.33177763, train_accuracy: 0.9297, test_Accuracy: 0.9198\n",
      "Epoch: [ 0] [  126/  468] time: 70.2847, train_loss: 0.51054257, train_accuracy: 0.9062, test_Accuracy: 0.9211\n",
      "Epoch: [ 0] [  127/  468] time: 70.7612, train_loss: 0.30655536, train_accuracy: 0.9375, test_Accuracy: 0.9192\n",
      "Epoch: [ 0] [  128/  468] time: 71.2321, train_loss: 0.29433897, train_accuracy: 0.9297, test_Accuracy: 0.9187\n",
      "Epoch: [ 0] [  129/  468] time: 71.7339, train_loss: 0.33495161, train_accuracy: 0.9297, test_Accuracy: 0.9176\n",
      "Epoch: [ 0] [  130/  468] time: 72.2165, train_loss: 0.41155347, train_accuracy: 0.9375, test_Accuracy: 0.9175\n",
      "Epoch: [ 0] [  131/  468] time: 72.7574, train_loss: 0.29937515, train_accuracy: 0.9141, test_Accuracy: 0.9178\n",
      "Epoch: [ 0] [  132/  468] time: 73.2673, train_loss: 0.42204267, train_accuracy: 0.9062, test_Accuracy: 0.9197\n",
      "Epoch: [ 0] [  133/  468] time: 73.7685, train_loss: 0.35584807, train_accuracy: 0.9453, test_Accuracy: 0.9213\n",
      "Epoch: [ 0] [  134/  468] time: 74.2778, train_loss: 0.40963534, train_accuracy: 0.9219, test_Accuracy: 0.9223\n",
      "Epoch: [ 0] [  135/  468] time: 74.8278, train_loss: 0.23152290, train_accuracy: 0.9688, test_Accuracy: 0.9197\n",
      "Epoch: [ 0] [  136/  468] time: 75.3269, train_loss: 0.35452300, train_accuracy: 0.9062, test_Accuracy: 0.9175\n",
      "Epoch: [ 0] [  137/  468] time: 75.8114, train_loss: 0.23531486, train_accuracy: 0.9531, test_Accuracy: 0.9177\n",
      "Epoch: [ 0] [  138/  468] time: 76.3363, train_loss: 0.33053070, train_accuracy: 0.9297, test_Accuracy: 0.9195\n",
      "Epoch: [ 0] [  139/  468] time: 76.8040, train_loss: 0.55202103, train_accuracy: 0.8672, test_Accuracy: 0.9213\n",
      "Epoch: [ 0] [  140/  468] time: 77.3238, train_loss: 0.24014857, train_accuracy: 0.9609, test_Accuracy: 0.9223\n",
      "Epoch: [ 0] [  141/  468] time: 77.8186, train_loss: 0.32815802, train_accuracy: 0.9141, test_Accuracy: 0.9228\n",
      "Epoch: [ 0] [  142/  468] time: 78.3652, train_loss: 0.30989820, train_accuracy: 0.9375, test_Accuracy: 0.9218\n",
      "Epoch: [ 0] [  143/  468] time: 78.8526, train_loss: 0.19968271, train_accuracy: 0.9766, test_Accuracy: 0.9211\n",
      "Epoch: [ 0] [  144/  468] time: 79.3426, train_loss: 0.39492199, train_accuracy: 0.9297, test_Accuracy: 0.9222\n",
      "Epoch: [ 0] [  145/  468] time: 79.8266, train_loss: 0.37014157, train_accuracy: 0.9062, test_Accuracy: 0.9231\n",
      "Epoch: [ 0] [  146/  468] time: 80.2786, train_loss: 0.37391859, train_accuracy: 0.9219, test_Accuracy: 0.9240\n",
      "Epoch: [ 0] [  147/  468] time: 80.8147, train_loss: 0.34204581, train_accuracy: 0.9375, test_Accuracy: 0.9252\n"
     ]
    },
    {
     "name": "stdout",
     "output_type": "stream",
     "text": [
      "Epoch: [ 0] [  148/  468] time: 81.3668, train_loss: 0.37428275, train_accuracy: 0.9297, test_Accuracy: 0.9258\n",
      "Epoch: [ 0] [  149/  468] time: 81.8869, train_loss: 0.36714560, train_accuracy: 0.9375, test_Accuracy: 0.9253\n",
      "Epoch: [ 0] [  150/  468] time: 82.3751, train_loss: 0.47406918, train_accuracy: 0.9219, test_Accuracy: 0.9255\n",
      "Epoch: [ 0] [  151/  468] time: 82.9013, train_loss: 0.46892032, train_accuracy: 0.8906, test_Accuracy: 0.9262\n",
      "Epoch: [ 0] [  152/  468] time: 83.5938, train_loss: 0.42045766, train_accuracy: 0.9297, test_Accuracy: 0.9260\n",
      "Epoch: [ 0] [  153/  468] time: 84.1302, train_loss: 0.42556465, train_accuracy: 0.9062, test_Accuracy: 0.9258\n",
      "Epoch: [ 0] [  154/  468] time: 84.6597, train_loss: 0.57210141, train_accuracy: 0.8594, test_Accuracy: 0.9243\n",
      "Epoch: [ 0] [  155/  468] time: 85.1416, train_loss: 0.43863624, train_accuracy: 0.9219, test_Accuracy: 0.9241\n",
      "Epoch: [ 0] [  156/  468] time: 85.6850, train_loss: 0.51347584, train_accuracy: 0.8906, test_Accuracy: 0.9271\n",
      "Epoch: [ 0] [  157/  468] time: 86.2034, train_loss: 0.40944868, train_accuracy: 0.9375, test_Accuracy: 0.9279\n",
      "Epoch: [ 0] [  158/  468] time: 86.7337, train_loss: 0.56196445, train_accuracy: 0.9219, test_Accuracy: 0.9283\n",
      "Epoch: [ 0] [  159/  468] time: 87.2333, train_loss: 0.36846751, train_accuracy: 0.9141, test_Accuracy: 0.9280\n",
      "Epoch: [ 0] [  160/  468] time: 87.7442, train_loss: 0.40017611, train_accuracy: 0.9219, test_Accuracy: 0.9288\n",
      "Epoch: [ 0] [  161/  468] time: 88.2848, train_loss: 0.37945262, train_accuracy: 0.9453, test_Accuracy: 0.9295\n",
      "Epoch: [ 0] [  162/  468] time: 88.7579, train_loss: 0.22607917, train_accuracy: 0.9453, test_Accuracy: 0.9305\n",
      "Epoch: [ 0] [  163/  468] time: 89.2467, train_loss: 0.19064677, train_accuracy: 0.9531, test_Accuracy: 0.9319\n",
      "Epoch: [ 0] [  164/  468] time: 89.8126, train_loss: 0.45661601, train_accuracy: 0.9141, test_Accuracy: 0.9340\n",
      "Epoch: [ 0] [  165/  468] time: 90.4527, train_loss: 0.32795131, train_accuracy: 0.9297, test_Accuracy: 0.9337\n",
      "Epoch: [ 0] [  166/  468] time: 91.0157, train_loss: 0.22167973, train_accuracy: 0.9688, test_Accuracy: 0.9342\n",
      "Epoch: [ 0] [  167/  468] time: 91.5721, train_loss: 0.38530123, train_accuracy: 0.9141, test_Accuracy: 0.9329\n",
      "Epoch: [ 0] [  168/  468] time: 92.1170, train_loss: 0.38437313, train_accuracy: 0.9375, test_Accuracy: 0.9315\n",
      "Epoch: [ 0] [  169/  468] time: 92.7372, train_loss: 0.35012126, train_accuracy: 0.9453, test_Accuracy: 0.9327\n",
      "Epoch: [ 0] [  170/  468] time: 93.3038, train_loss: 0.54869246, train_accuracy: 0.8828, test_Accuracy: 0.9345\n",
      "Epoch: [ 0] [  171/  468] time: 93.8566, train_loss: 0.27761614, train_accuracy: 0.9453, test_Accuracy: 0.9353\n",
      "Epoch: [ 0] [  172/  468] time: 94.4032, train_loss: 0.30011022, train_accuracy: 0.9375, test_Accuracy: 0.9349\n",
      "Epoch: [ 0] [  173/  468] time: 94.9482, train_loss: 0.27766067, train_accuracy: 0.9297, test_Accuracy: 0.9357\n",
      "Epoch: [ 0] [  174/  468] time: 95.4294, train_loss: 0.52901322, train_accuracy: 0.8906, test_Accuracy: 0.9353\n",
      "Epoch: [ 0] [  175/  468] time: 95.9069, train_loss: 0.31914508, train_accuracy: 0.9453, test_Accuracy: 0.9359\n",
      "Epoch: [ 0] [  176/  468] time: 96.4069, train_loss: 0.37287438, train_accuracy: 0.8828, test_Accuracy: 0.9353\n",
      "Epoch: [ 0] [  177/  468] time: 96.9225, train_loss: 0.21810830, train_accuracy: 0.9531, test_Accuracy: 0.9355\n",
      "Epoch: [ 0] [  178/  468] time: 97.4288, train_loss: 0.42139792, train_accuracy: 0.9219, test_Accuracy: 0.9352\n",
      "Epoch: [ 0] [  179/  468] time: 98.0001, train_loss: 0.35869828, train_accuracy: 0.9297, test_Accuracy: 0.9358\n",
      "Epoch: [ 0] [  180/  468] time: 98.5674, train_loss: 0.32677767, train_accuracy: 0.9297, test_Accuracy: 0.9367\n",
      "Epoch: [ 0] [  181/  468] time: 99.0688, train_loss: 0.39254704, train_accuracy: 0.9219, test_Accuracy: 0.9365\n",
      "Epoch: [ 0] [  182/  468] time: 99.6120, train_loss: 0.36995971, train_accuracy: 0.9141, test_Accuracy: 0.9360\n",
      "Epoch: [ 0] [  183/  468] time: 100.1430, train_loss: 0.23872189, train_accuracy: 0.9766, test_Accuracy: 0.9349\n",
      "Epoch: [ 0] [  184/  468] time: 100.6530, train_loss: 0.21936420, train_accuracy: 0.9609, test_Accuracy: 0.9325\n",
      "Epoch: [ 0] [  185/  468] time: 101.1802, train_loss: 0.29606766, train_accuracy: 0.9375, test_Accuracy: 0.9328\n",
      "Epoch: [ 0] [  186/  468] time: 101.7049, train_loss: 0.26455569, train_accuracy: 0.9688, test_Accuracy: 0.9343\n",
      "Epoch: [ 0] [  187/  468] time: 102.2166, train_loss: 0.50398093, train_accuracy: 0.9062, test_Accuracy: 0.9351\n",
      "Epoch: [ 0] [  188/  468] time: 102.7332, train_loss: 0.30315137, train_accuracy: 0.9375, test_Accuracy: 0.9360\n",
      "Epoch: [ 0] [  189/  468] time: 103.2245, train_loss: 0.30042696, train_accuracy: 0.9453, test_Accuracy: 0.9364\n",
      "Epoch: [ 0] [  190/  468] time: 103.7246, train_loss: 0.40442127, train_accuracy: 0.9453, test_Accuracy: 0.9367\n",
      "Epoch: [ 0] [  191/  468] time: 104.2036, train_loss: 0.36628613, train_accuracy: 0.9453, test_Accuracy: 0.9349\n",
      "Epoch: [ 0] [  192/  468] time: 104.7105, train_loss: 0.31547081, train_accuracy: 0.9219, test_Accuracy: 0.9326\n",
      "Epoch: [ 0] [  193/  468] time: 105.1792, train_loss: 0.21597776, train_accuracy: 0.9531, test_Accuracy: 0.9303\n",
      "Epoch: [ 0] [  194/  468] time: 105.6637, train_loss: 0.37364876, train_accuracy: 0.9531, test_Accuracy: 0.9282\n",
      "Epoch: [ 0] [  195/  468] time: 106.1129, train_loss: 0.39947298, train_accuracy: 0.9219, test_Accuracy: 0.9283\n",
      "Epoch: [ 0] [  196/  468] time: 106.6064, train_loss: 0.54258358, train_accuracy: 0.8828, test_Accuracy: 0.9307\n",
      "Epoch: [ 0] [  197/  468] time: 107.1944, train_loss: 0.25017065, train_accuracy: 0.9609, test_Accuracy: 0.9337\n",
      "Epoch: [ 0] [  198/  468] time: 107.7216, train_loss: 0.23276103, train_accuracy: 0.9609, test_Accuracy: 0.9361\n",
      "Epoch: [ 0] [  199/  468] time: 108.2521, train_loss: 0.24273580, train_accuracy: 0.9375, test_Accuracy: 0.9365\n",
      "Epoch: [ 0] [  200/  468] time: 108.7894, train_loss: 0.25377902, train_accuracy: 0.9531, test_Accuracy: 0.9372\n",
      "Epoch: [ 0] [  201/  468] time: 109.3532, train_loss: 0.28092322, train_accuracy: 0.9297, test_Accuracy: 0.9359\n",
      "Epoch: [ 0] [  202/  468] time: 109.9488, train_loss: 0.34083611, train_accuracy: 0.9375, test_Accuracy: 0.9348\n",
      "Epoch: [ 0] [  203/  468] time: 110.4658, train_loss: 0.28829777, train_accuracy: 0.9531, test_Accuracy: 0.9354\n",
      "Epoch: [ 0] [  204/  468] time: 110.9525, train_loss: 0.50494206, train_accuracy: 0.8750, test_Accuracy: 0.9358\n",
      "Epoch: [ 0] [  205/  468] time: 111.4609, train_loss: 0.32868838, train_accuracy: 0.9375, test_Accuracy: 0.9360\n",
      "Epoch: [ 0] [  206/  468] time: 112.0053, train_loss: 0.36848247, train_accuracy: 0.9531, test_Accuracy: 0.9362\n",
      "Epoch: [ 0] [  207/  468] time: 112.5056, train_loss: 0.28753614, train_accuracy: 0.9531, test_Accuracy: 0.9360\n",
      "Epoch: [ 0] [  208/  468] time: 112.9790, train_loss: 0.35724020, train_accuracy: 0.9297, test_Accuracy: 0.9362\n",
      "Epoch: [ 0] [  209/  468] time: 113.4668, train_loss: 0.29077914, train_accuracy: 0.9609, test_Accuracy: 0.9354\n",
      "Epoch: [ 0] [  210/  468] time: 113.9685, train_loss: 0.34516454, train_accuracy: 0.9297, test_Accuracy: 0.9316\n",
      "Epoch: [ 0] [  211/  468] time: 114.5024, train_loss: 0.30365556, train_accuracy: 0.9375, test_Accuracy: 0.9304\n",
      "Epoch: [ 0] [  212/  468] time: 114.9859, train_loss: 0.48368177, train_accuracy: 0.9297, test_Accuracy: 0.9301\n",
      "Epoch: [ 0] [  213/  468] time: 115.5053, train_loss: 0.38329351, train_accuracy: 0.9141, test_Accuracy: 0.9337\n",
      "Epoch: [ 0] [  214/  468] time: 116.0983, train_loss: 0.42823425, train_accuracy: 0.9062, test_Accuracy: 0.9362\n",
      "Epoch: [ 0] [  215/  468] time: 116.7254, train_loss: 0.42041594, train_accuracy: 0.9453, test_Accuracy: 0.9357\n",
      "Epoch: [ 0] [  216/  468] time: 117.3056, train_loss: 0.25704539, train_accuracy: 0.9609, test_Accuracy: 0.9325\n",
      "Epoch: [ 0] [  217/  468] time: 117.8475, train_loss: 0.27309686, train_accuracy: 0.9609, test_Accuracy: 0.9299\n",
      "Epoch: [ 0] [  218/  468] time: 118.4287, train_loss: 0.31381133, train_accuracy: 0.9297, test_Accuracy: 0.9277\n",
      "Epoch: [ 0] [  219/  468] time: 119.0077, train_loss: 0.44688159, train_accuracy: 0.8906, test_Accuracy: 0.9274\n",
      "Epoch: [ 0] [  220/  468] time: 119.5281, train_loss: 0.47234589, train_accuracy: 0.8672, test_Accuracy: 0.9303\n",
      "Epoch: [ 0] [  221/  468] time: 120.0206, train_loss: 0.23266444, train_accuracy: 0.9609, test_Accuracy: 0.9326\n"
     ]
    },
    {
     "name": "stdout",
     "output_type": "stream",
     "text": [
      "Epoch: [ 0] [  222/  468] time: 120.4822, train_loss: 0.29244936, train_accuracy: 0.9531, test_Accuracy: 0.9359\n",
      "Epoch: [ 0] [  223/  468] time: 120.9277, train_loss: 0.39300060, train_accuracy: 0.9297, test_Accuracy: 0.9367\n",
      "Epoch: [ 0] [  224/  468] time: 121.4047, train_loss: 0.44553682, train_accuracy: 0.9219, test_Accuracy: 0.9389\n",
      "Epoch: [ 0] [  225/  468] time: 121.9011, train_loss: 0.25907072, train_accuracy: 0.9375, test_Accuracy: 0.9377\n",
      "Epoch: [ 0] [  226/  468] time: 122.4279, train_loss: 0.40477890, train_accuracy: 0.9453, test_Accuracy: 0.9366\n",
      "Epoch: [ 0] [  227/  468] time: 122.9491, train_loss: 0.30509388, train_accuracy: 0.9609, test_Accuracy: 0.9350\n",
      "Epoch: [ 0] [  228/  468] time: 123.4572, train_loss: 0.38603282, train_accuracy: 0.9297, test_Accuracy: 0.9343\n",
      "Epoch: [ 0] [  229/  468] time: 123.9714, train_loss: 0.44131362, train_accuracy: 0.9062, test_Accuracy: 0.9367\n",
      "Epoch: [ 0] [  230/  468] time: 124.5336, train_loss: 0.42061400, train_accuracy: 0.9297, test_Accuracy: 0.9389\n",
      "Epoch: [ 0] [  231/  468] time: 125.0969, train_loss: 0.42748097, train_accuracy: 0.9375, test_Accuracy: 0.9415\n",
      "Epoch: [ 0] [  232/  468] time: 125.6795, train_loss: 0.32523519, train_accuracy: 0.9375, test_Accuracy: 0.9426\n",
      "Epoch: [ 0] [  233/  468] time: 126.2641, train_loss: 0.34373897, train_accuracy: 0.9453, test_Accuracy: 0.9424\n",
      "Epoch: [ 0] [  234/  468] time: 126.7893, train_loss: 0.25121814, train_accuracy: 0.9375, test_Accuracy: 0.9428\n",
      "Epoch: [ 0] [  235/  468] time: 127.2974, train_loss: 0.25810999, train_accuracy: 0.9453, test_Accuracy: 0.9426\n",
      "Epoch: [ 0] [  236/  468] time: 127.8159, train_loss: 0.26731113, train_accuracy: 0.9453, test_Accuracy: 0.9417\n",
      "Epoch: [ 0] [  237/  468] time: 128.3302, train_loss: 0.40727860, train_accuracy: 0.9219, test_Accuracy: 0.9405\n",
      "Epoch: [ 0] [  238/  468] time: 128.8240, train_loss: 0.41276073, train_accuracy: 0.9297, test_Accuracy: 0.9395\n",
      "Epoch: [ 0] [  239/  468] time: 129.2853, train_loss: 0.25738865, train_accuracy: 0.9688, test_Accuracy: 0.9397\n",
      "Epoch: [ 0] [  240/  468] time: 129.7678, train_loss: 0.34927404, train_accuracy: 0.9531, test_Accuracy: 0.9400\n",
      "Epoch: [ 0] [  241/  468] time: 130.2667, train_loss: 0.32219189, train_accuracy: 0.9531, test_Accuracy: 0.9401\n",
      "Epoch: [ 0] [  242/  468] time: 130.7376, train_loss: 0.27275348, train_accuracy: 0.9375, test_Accuracy: 0.9412\n",
      "Epoch: [ 0] [  243/  468] time: 131.3197, train_loss: 0.22954972, train_accuracy: 0.9375, test_Accuracy: 0.9417\n",
      "Epoch: [ 0] [  244/  468] time: 131.8203, train_loss: 0.38584793, train_accuracy: 0.9453, test_Accuracy: 0.9403\n",
      "Epoch: [ 0] [  245/  468] time: 132.3856, train_loss: 0.26941144, train_accuracy: 0.9219, test_Accuracy: 0.9391\n",
      "Epoch: [ 0] [  246/  468] time: 132.9354, train_loss: 0.35438228, train_accuracy: 0.9375, test_Accuracy: 0.9383\n",
      "Epoch: [ 0] [  247/  468] time: 133.5069, train_loss: 0.36350471, train_accuracy: 0.9375, test_Accuracy: 0.9387\n",
      "Epoch: [ 0] [  248/  468] time: 134.1055, train_loss: 0.38210833, train_accuracy: 0.9297, test_Accuracy: 0.9397\n",
      "Epoch: [ 0] [  249/  468] time: 134.6761, train_loss: 0.24561605, train_accuracy: 0.9531, test_Accuracy: 0.9411\n",
      "Epoch: [ 0] [  250/  468] time: 135.2630, train_loss: 0.29040056, train_accuracy: 0.9375, test_Accuracy: 0.9404\n",
      "Epoch: [ 0] [  251/  468] time: 135.8307, train_loss: 0.35201141, train_accuracy: 0.9219, test_Accuracy: 0.9398\n",
      "Epoch: [ 0] [  252/  468] time: 136.3472, train_loss: 0.31967625, train_accuracy: 0.9609, test_Accuracy: 0.9402\n",
      "Epoch: [ 0] [  253/  468] time: 136.9093, train_loss: 0.53528571, train_accuracy: 0.9219, test_Accuracy: 0.9414\n",
      "Epoch: [ 0] [  254/  468] time: 137.3686, train_loss: 0.30245319, train_accuracy: 0.9453, test_Accuracy: 0.9438\n",
      "Epoch: [ 0] [  255/  468] time: 137.9178, train_loss: 0.34397012, train_accuracy: 0.9453, test_Accuracy: 0.9439\n",
      "Epoch: [ 0] [  256/  468] time: 138.4074, train_loss: 0.46479893, train_accuracy: 0.8984, test_Accuracy: 0.9458\n",
      "Epoch: [ 0] [  257/  468] time: 139.0884, train_loss: 0.20486233, train_accuracy: 0.9531, test_Accuracy: 0.9469\n",
      "Epoch: [ 0] [  258/  468] time: 139.6509, train_loss: 0.20802858, train_accuracy: 0.9688, test_Accuracy: 0.9468\n",
      "Epoch: [ 0] [  259/  468] time: 140.1452, train_loss: 0.29332530, train_accuracy: 0.9609, test_Accuracy: 0.9463\n",
      "Epoch: [ 0] [  260/  468] time: 140.6730, train_loss: 0.30429018, train_accuracy: 0.9531, test_Accuracy: 0.9453\n",
      "Epoch: [ 0] [  261/  468] time: 141.1975, train_loss: 0.30596536, train_accuracy: 0.9531, test_Accuracy: 0.9454\n",
      "Epoch: [ 0] [  262/  468] time: 141.8932, train_loss: 0.31144884, train_accuracy: 0.9453, test_Accuracy: 0.9469\n",
      "Epoch: [ 0] [  263/  468] time: 142.6544, train_loss: 0.27067906, train_accuracy: 0.9531, test_Accuracy: 0.9465\n",
      "Epoch: [ 0] [  264/  468] time: 143.3907, train_loss: 0.27941465, train_accuracy: 0.9688, test_Accuracy: 0.9474\n",
      "Epoch: [ 0] [  265/  468] time: 144.1741, train_loss: 0.28997189, train_accuracy: 0.9609, test_Accuracy: 0.9480\n",
      "Epoch: [ 0] [  266/  468] time: 144.8620, train_loss: 0.19290063, train_accuracy: 0.9609, test_Accuracy: 0.9482\n",
      "Epoch: [ 0] [  267/  468] time: 145.4073, train_loss: 0.10657521, train_accuracy: 0.9609, test_Accuracy: 0.9469\n",
      "Epoch: [ 0] [  268/  468] time: 145.9081, train_loss: 0.28950465, train_accuracy: 0.9375, test_Accuracy: 0.9462\n",
      "Epoch: [ 0] [  269/  468] time: 146.4648, train_loss: 0.37187850, train_accuracy: 0.9531, test_Accuracy: 0.9465\n",
      "Epoch: [ 0] [  270/  468] time: 147.0044, train_loss: 0.36216992, train_accuracy: 0.9375, test_Accuracy: 0.9452\n",
      "Epoch: [ 0] [  271/  468] time: 147.6135, train_loss: 0.20400399, train_accuracy: 0.9688, test_Accuracy: 0.9466\n",
      "Epoch: [ 0] [  272/  468] time: 148.1510, train_loss: 0.25756493, train_accuracy: 0.9219, test_Accuracy: 0.9457\n",
      "Epoch: [ 0] [  273/  468] time: 148.6971, train_loss: 0.25004593, train_accuracy: 0.9531, test_Accuracy: 0.9454\n",
      "Epoch: [ 0] [  274/  468] time: 149.2355, train_loss: 0.31101018, train_accuracy: 0.9609, test_Accuracy: 0.9456\n",
      "Epoch: [ 0] [  275/  468] time: 149.7669, train_loss: 0.40675217, train_accuracy: 0.9453, test_Accuracy: 0.9456\n",
      "Epoch: [ 0] [  276/  468] time: 150.3926, train_loss: 0.25318938, train_accuracy: 0.9453, test_Accuracy: 0.9458\n",
      "Epoch: [ 0] [  277/  468] time: 150.9770, train_loss: 0.17929284, train_accuracy: 0.9688, test_Accuracy: 0.9449\n",
      "Epoch: [ 0] [  278/  468] time: 151.6354, train_loss: 0.32677791, train_accuracy: 0.9453, test_Accuracy: 0.9451\n",
      "Epoch: [ 0] [  279/  468] time: 152.2583, train_loss: 0.39384487, train_accuracy: 0.9062, test_Accuracy: 0.9450\n",
      "Epoch: [ 0] [  280/  468] time: 152.9504, train_loss: 0.19810599, train_accuracy: 0.9766, test_Accuracy: 0.9452\n",
      "Epoch: [ 0] [  281/  468] time: 153.5620, train_loss: 0.36907679, train_accuracy: 0.9219, test_Accuracy: 0.9456\n",
      "Epoch: [ 0] [  282/  468] time: 154.0587, train_loss: 0.27634299, train_accuracy: 0.9688, test_Accuracy: 0.9457\n",
      "Epoch: [ 0] [  283/  468] time: 154.5531, train_loss: 0.35371858, train_accuracy: 0.9375, test_Accuracy: 0.9459\n",
      "Epoch: [ 0] [  284/  468] time: 155.0283, train_loss: 0.26025909, train_accuracy: 0.9453, test_Accuracy: 0.9487\n",
      "Epoch: [ 0] [  285/  468] time: 155.4999, train_loss: 0.31549326, train_accuracy: 0.9375, test_Accuracy: 0.9486\n",
      "Epoch: [ 0] [  286/  468] time: 155.9837, train_loss: 0.48648930, train_accuracy: 0.9141, test_Accuracy: 0.9496\n",
      "Epoch: [ 0] [  287/  468] time: 156.4664, train_loss: 0.12252554, train_accuracy: 0.9766, test_Accuracy: 0.9494\n",
      "Epoch: [ 0] [  288/  468] time: 157.0027, train_loss: 0.29717362, train_accuracy: 0.9219, test_Accuracy: 0.9476\n",
      "Epoch: [ 0] [  289/  468] time: 157.5317, train_loss: 0.29384103, train_accuracy: 0.9297, test_Accuracy: 0.9469\n",
      "Epoch: [ 0] [  290/  468] time: 158.0672, train_loss: 0.26782468, train_accuracy: 0.9531, test_Accuracy: 0.9454\n",
      "Epoch: [ 0] [  291/  468] time: 158.5925, train_loss: 0.33979857, train_accuracy: 0.9375, test_Accuracy: 0.9448\n",
      "Epoch: [ 0] [  292/  468] time: 159.1273, train_loss: 0.38478076, train_accuracy: 0.9453, test_Accuracy: 0.9443\n",
      "Epoch: [ 0] [  293/  468] time: 159.6839, train_loss: 0.32688713, train_accuracy: 0.9375, test_Accuracy: 0.9449\n",
      "Epoch: [ 0] [  294/  468] time: 160.2360, train_loss: 0.30328515, train_accuracy: 0.9453, test_Accuracy: 0.9479\n",
      "Epoch: [ 0] [  295/  468] time: 160.8014, train_loss: 0.27138171, train_accuracy: 0.9219, test_Accuracy: 0.9500\n"
     ]
    },
    {
     "name": "stdout",
     "output_type": "stream",
     "text": [
      "Epoch: [ 0] [  296/  468] time: 161.3472, train_loss: 0.26571217, train_accuracy: 0.9453, test_Accuracy: 0.9507\n",
      "Epoch: [ 0] [  297/  468] time: 161.8500, train_loss: 0.24826236, train_accuracy: 0.9375, test_Accuracy: 0.9502\n",
      "Epoch: [ 0] [  298/  468] time: 162.3978, train_loss: 0.14814824, train_accuracy: 0.9766, test_Accuracy: 0.9508\n",
      "Epoch: [ 0] [  299/  468] time: 162.8568, train_loss: 0.17955837, train_accuracy: 0.9844, test_Accuracy: 0.9499\n",
      "Epoch: [ 0] [  300/  468] time: 163.3556, train_loss: 0.28084067, train_accuracy: 0.9766, test_Accuracy: 0.9484\n",
      "Epoch: [ 0] [  301/  468] time: 163.8451, train_loss: 0.50036341, train_accuracy: 0.8984, test_Accuracy: 0.9476\n",
      "Epoch: [ 0] [  302/  468] time: 164.3298, train_loss: 0.21107998, train_accuracy: 0.9531, test_Accuracy: 0.9490\n",
      "Epoch: [ 0] [  303/  468] time: 164.8310, train_loss: 0.23884815, train_accuracy: 0.9531, test_Accuracy: 0.9500\n",
      "Epoch: [ 0] [  304/  468] time: 165.3074, train_loss: 0.30990675, train_accuracy: 0.9375, test_Accuracy: 0.9490\n",
      "Epoch: [ 0] [  305/  468] time: 165.7897, train_loss: 0.26265046, train_accuracy: 0.9531, test_Accuracy: 0.9491\n",
      "Epoch: [ 0] [  306/  468] time: 166.2667, train_loss: 0.30236107, train_accuracy: 0.9453, test_Accuracy: 0.9491\n",
      "Epoch: [ 0] [  307/  468] time: 166.7441, train_loss: 0.31976211, train_accuracy: 0.9375, test_Accuracy: 0.9499\n",
      "Epoch: [ 0] [  308/  468] time: 167.2437, train_loss: 0.28830475, train_accuracy: 0.9453, test_Accuracy: 0.9506\n",
      "Epoch: [ 0] [  309/  468] time: 167.7476, train_loss: 0.29015857, train_accuracy: 0.9609, test_Accuracy: 0.9497\n",
      "Epoch: [ 0] [  310/  468] time: 168.2337, train_loss: 0.19447413, train_accuracy: 0.9844, test_Accuracy: 0.9492\n",
      "Epoch: [ 0] [  311/  468] time: 168.7413, train_loss: 0.22058719, train_accuracy: 0.9453, test_Accuracy: 0.9501\n",
      "Epoch: [ 0] [  312/  468] time: 169.2984, train_loss: 0.28322756, train_accuracy: 0.9688, test_Accuracy: 0.9494\n",
      "Epoch: [ 0] [  313/  468] time: 169.8605, train_loss: 0.18075588, train_accuracy: 0.9531, test_Accuracy: 0.9486\n",
      "Epoch: [ 0] [  314/  468] time: 170.4181, train_loss: 0.35919222, train_accuracy: 0.9219, test_Accuracy: 0.9474\n",
      "Epoch: [ 0] [  315/  468] time: 170.9292, train_loss: 0.15269589, train_accuracy: 0.9844, test_Accuracy: 0.9473\n",
      "Epoch: [ 0] [  316/  468] time: 171.4108, train_loss: 0.26427364, train_accuracy: 0.9609, test_Accuracy: 0.9489\n",
      "Epoch: [ 0] [  317/  468] time: 171.8747, train_loss: 0.24182567, train_accuracy: 0.9453, test_Accuracy: 0.9492\n",
      "Epoch: [ 0] [  318/  468] time: 172.3590, train_loss: 0.34283033, train_accuracy: 0.9062, test_Accuracy: 0.9499\n",
      "Epoch: [ 0] [  319/  468] time: 172.8163, train_loss: 0.41412088, train_accuracy: 0.9297, test_Accuracy: 0.9498\n",
      "Epoch: [ 0] [  320/  468] time: 173.2863, train_loss: 0.37873617, train_accuracy: 0.9219, test_Accuracy: 0.9514\n",
      "Epoch: [ 0] [  321/  468] time: 173.7628, train_loss: 0.25627807, train_accuracy: 0.9297, test_Accuracy: 0.9516\n",
      "Epoch: [ 0] [  322/  468] time: 174.2544, train_loss: 0.28252655, train_accuracy: 0.9141, test_Accuracy: 0.9502\n",
      "Epoch: [ 0] [  323/  468] time: 174.7148, train_loss: 0.34907237, train_accuracy: 0.8906, test_Accuracy: 0.9488\n",
      "Epoch: [ 0] [  324/  468] time: 175.1973, train_loss: 0.30296803, train_accuracy: 0.9609, test_Accuracy: 0.9476\n",
      "Epoch: [ 0] [  325/  468] time: 175.7309, train_loss: 0.41000628, train_accuracy: 0.9219, test_Accuracy: 0.9454\n",
      "Epoch: [ 0] [  326/  468] time: 176.2853, train_loss: 0.24094732, train_accuracy: 0.9531, test_Accuracy: 0.9431\n",
      "Epoch: [ 0] [  327/  468] time: 176.8173, train_loss: 0.27237394, train_accuracy: 0.9375, test_Accuracy: 0.9439\n",
      "Epoch: [ 0] [  328/  468] time: 177.3267, train_loss: 0.24151549, train_accuracy: 0.9531, test_Accuracy: 0.9461\n",
      "Epoch: [ 0] [  329/  468] time: 177.8269, train_loss: 0.22330198, train_accuracy: 0.9688, test_Accuracy: 0.9485\n",
      "Epoch: [ 0] [  330/  468] time: 178.3592, train_loss: 0.18994308, train_accuracy: 0.9531, test_Accuracy: 0.9508\n",
      "Epoch: [ 0] [  331/  468] time: 178.9072, train_loss: 0.41762763, train_accuracy: 0.9609, test_Accuracy: 0.9522\n",
      "Epoch: [ 0] [  332/  468] time: 179.3952, train_loss: 0.42281014, train_accuracy: 0.9297, test_Accuracy: 0.9518\n",
      "Epoch: [ 0] [  333/  468] time: 179.8549, train_loss: 0.24014246, train_accuracy: 0.9453, test_Accuracy: 0.9500\n",
      "Epoch: [ 0] [  334/  468] time: 180.3750, train_loss: 0.36839014, train_accuracy: 0.9531, test_Accuracy: 0.9487\n",
      "Epoch: [ 0] [  335/  468] time: 180.8555, train_loss: 0.19436449, train_accuracy: 0.9531, test_Accuracy: 0.9477\n",
      "Epoch: [ 0] [  336/  468] time: 181.3287, train_loss: 0.37229246, train_accuracy: 0.9141, test_Accuracy: 0.9478\n",
      "Epoch: [ 0] [  337/  468] time: 181.8512, train_loss: 0.31415245, train_accuracy: 0.9531, test_Accuracy: 0.9472\n",
      "Epoch: [ 0] [  338/  468] time: 182.3438, train_loss: 0.35466355, train_accuracy: 0.9375, test_Accuracy: 0.9487\n",
      "Epoch: [ 0] [  339/  468] time: 182.8366, train_loss: 0.22789888, train_accuracy: 0.9531, test_Accuracy: 0.9493\n",
      "Epoch: [ 0] [  340/  468] time: 183.3571, train_loss: 0.22970468, train_accuracy: 0.9453, test_Accuracy: 0.9495\n",
      "Epoch: [ 0] [  341/  468] time: 183.8365, train_loss: 0.15935546, train_accuracy: 0.9688, test_Accuracy: 0.9510\n",
      "Epoch: [ 0] [  342/  468] time: 184.3939, train_loss: 0.26701438, train_accuracy: 0.9375, test_Accuracy: 0.9511\n",
      "Epoch: [ 0] [  343/  468] time: 184.9056, train_loss: 0.10900904, train_accuracy: 0.9766, test_Accuracy: 0.9506\n",
      "Epoch: [ 0] [  344/  468] time: 185.4156, train_loss: 0.19042730, train_accuracy: 0.9766, test_Accuracy: 0.9484\n",
      "Epoch: [ 0] [  345/  468] time: 185.9467, train_loss: 0.23199724, train_accuracy: 0.9609, test_Accuracy: 0.9482\n",
      "Epoch: [ 0] [  346/  468] time: 186.5413, train_loss: 0.25583190, train_accuracy: 0.9609, test_Accuracy: 0.9484\n",
      "Epoch: [ 0] [  347/  468] time: 187.1261, train_loss: 0.19365871, train_accuracy: 0.9688, test_Accuracy: 0.9490\n",
      "Epoch: [ 0] [  348/  468] time: 187.6641, train_loss: 0.31393042, train_accuracy: 0.9531, test_Accuracy: 0.9491\n",
      "Epoch: [ 0] [  349/  468] time: 188.1692, train_loss: 0.27548283, train_accuracy: 0.9531, test_Accuracy: 0.9499\n",
      "Epoch: [ 0] [  350/  468] time: 188.6844, train_loss: 0.27428335, train_accuracy: 0.9531, test_Accuracy: 0.9512\n",
      "Epoch: [ 0] [  351/  468] time: 189.1678, train_loss: 0.26788208, train_accuracy: 0.9453, test_Accuracy: 0.9514\n",
      "Epoch: [ 0] [  352/  468] time: 189.6601, train_loss: 0.16899918, train_accuracy: 0.9766, test_Accuracy: 0.9518\n",
      "Epoch: [ 0] [  353/  468] time: 190.1060, train_loss: 0.17359638, train_accuracy: 0.9609, test_Accuracy: 0.9508\n",
      "Epoch: [ 0] [  354/  468] time: 190.5889, train_loss: 0.27211311, train_accuracy: 0.9297, test_Accuracy: 0.9519\n",
      "Epoch: [ 0] [  355/  468] time: 191.1035, train_loss: 0.36695167, train_accuracy: 0.9531, test_Accuracy: 0.9519\n",
      "Epoch: [ 0] [  356/  468] time: 191.5522, train_loss: 0.21340424, train_accuracy: 0.9609, test_Accuracy: 0.9521\n",
      "Epoch: [ 0] [  357/  468] time: 191.9978, train_loss: 0.29063743, train_accuracy: 0.9375, test_Accuracy: 0.9521\n",
      "Epoch: [ 0] [  358/  468] time: 192.4897, train_loss: 0.23255503, train_accuracy: 0.9375, test_Accuracy: 0.9528\n",
      "Epoch: [ 0] [  359/  468] time: 192.9908, train_loss: 0.17934096, train_accuracy: 0.9609, test_Accuracy: 0.9524\n",
      "Epoch: [ 0] [  360/  468] time: 193.5388, train_loss: 0.33983573, train_accuracy: 0.9531, test_Accuracy: 0.9526\n",
      "Epoch: [ 0] [  361/  468] time: 194.1183, train_loss: 0.41169125, train_accuracy: 0.9297, test_Accuracy: 0.9535\n",
      "Epoch: [ 0] [  362/  468] time: 194.6735, train_loss: 0.27118200, train_accuracy: 0.9375, test_Accuracy: 0.9536\n",
      "Epoch: [ 0] [  363/  468] time: 195.2043, train_loss: 0.37583429, train_accuracy: 0.9453, test_Accuracy: 0.9534\n",
      "Epoch: [ 0] [  364/  468] time: 195.7813, train_loss: 0.27063358, train_accuracy: 0.9453, test_Accuracy: 0.9537\n",
      "Epoch: [ 0] [  365/  468] time: 196.4265, train_loss: 0.42219085, train_accuracy: 0.9297, test_Accuracy: 0.9532\n",
      "Epoch: [ 0] [  366/  468] time: 196.9285, train_loss: 0.21353698, train_accuracy: 0.9453, test_Accuracy: 0.9538\n",
      "Epoch: [ 0] [  367/  468] time: 197.3887, train_loss: 0.13578871, train_accuracy: 0.9766, test_Accuracy: 0.9532\n",
      "Epoch: [ 0] [  368/  468] time: 197.8683, train_loss: 0.32352608, train_accuracy: 0.9531, test_Accuracy: 0.9534\n",
      "Epoch: [ 0] [  369/  468] time: 198.3297, train_loss: 0.39941832, train_accuracy: 0.9219, test_Accuracy: 0.9529\n"
     ]
    },
    {
     "name": "stdout",
     "output_type": "stream",
     "text": [
      "Epoch: [ 0] [  370/  468] time: 198.7970, train_loss: 0.33503932, train_accuracy: 0.9141, test_Accuracy: 0.9541\n",
      "Epoch: [ 0] [  371/  468] time: 199.2408, train_loss: 0.31638056, train_accuracy: 0.9375, test_Accuracy: 0.9548\n",
      "Epoch: [ 0] [  372/  468] time: 199.7350, train_loss: 0.31835473, train_accuracy: 0.9453, test_Accuracy: 0.9547\n",
      "Epoch: [ 0] [  373/  468] time: 200.2042, train_loss: 0.17699747, train_accuracy: 0.9766, test_Accuracy: 0.9537\n",
      "Epoch: [ 0] [  374/  468] time: 200.7185, train_loss: 0.44131550, train_accuracy: 0.9219, test_Accuracy: 0.9537\n",
      "Epoch: [ 0] [  375/  468] time: 201.2372, train_loss: 0.31712225, train_accuracy: 0.9062, test_Accuracy: 0.9521\n",
      "Epoch: [ 0] [  376/  468] time: 201.7271, train_loss: 0.14800444, train_accuracy: 0.9844, test_Accuracy: 0.9521\n",
      "Epoch: [ 0] [  377/  468] time: 202.3210, train_loss: 0.28808665, train_accuracy: 0.9219, test_Accuracy: 0.9525\n",
      "Epoch: [ 0] [  378/  468] time: 202.8891, train_loss: 0.37966478, train_accuracy: 0.9297, test_Accuracy: 0.9525\n",
      "Epoch: [ 0] [  379/  468] time: 203.4470, train_loss: 0.16820638, train_accuracy: 0.9609, test_Accuracy: 0.9535\n",
      "Epoch: [ 0] [  380/  468] time: 203.9971, train_loss: 0.27065736, train_accuracy: 0.9219, test_Accuracy: 0.9533\n",
      "Epoch: [ 0] [  381/  468] time: 204.5715, train_loss: 0.21486326, train_accuracy: 0.9609, test_Accuracy: 0.9537\n",
      "Epoch: [ 0] [  382/  468] time: 205.1805, train_loss: 0.27452704, train_accuracy: 0.9219, test_Accuracy: 0.9547\n",
      "Epoch: [ 0] [  383/  468] time: 205.6437, train_loss: 0.10099713, train_accuracy: 0.9766, test_Accuracy: 0.9555\n",
      "Epoch: [ 0] [  384/  468] time: 206.1105, train_loss: 0.26561552, train_accuracy: 0.9609, test_Accuracy: 0.9551\n",
      "Epoch: [ 0] [  385/  468] time: 206.6937, train_loss: 0.19069670, train_accuracy: 0.9531, test_Accuracy: 0.9553\n",
      "Epoch: [ 0] [  386/  468] time: 207.1622, train_loss: 0.30714443, train_accuracy: 0.9609, test_Accuracy: 0.9545\n",
      "Epoch: [ 0] [  387/  468] time: 207.6408, train_loss: 0.25939181, train_accuracy: 0.9766, test_Accuracy: 0.9548\n",
      "Epoch: [ 0] [  388/  468] time: 208.1091, train_loss: 0.23228069, train_accuracy: 0.9609, test_Accuracy: 0.9557\n",
      "Epoch: [ 0] [  389/  468] time: 208.5742, train_loss: 0.32594997, train_accuracy: 0.9531, test_Accuracy: 0.9557\n",
      "Epoch: [ 0] [  390/  468] time: 209.0267, train_loss: 0.45462790, train_accuracy: 0.9062, test_Accuracy: 0.9557\n",
      "Epoch: [ 0] [  391/  468] time: 209.5478, train_loss: 0.21740127, train_accuracy: 0.9531, test_Accuracy: 0.9577\n",
      "Epoch: [ 0] [  392/  468] time: 210.0655, train_loss: 0.17685559, train_accuracy: 0.9766, test_Accuracy: 0.9579\n",
      "Epoch: [ 0] [  393/  468] time: 210.6103, train_loss: 0.29149675, train_accuracy: 0.9609, test_Accuracy: 0.9582\n",
      "Epoch: [ 0] [  394/  468] time: 211.1051, train_loss: 0.34850830, train_accuracy: 0.9453, test_Accuracy: 0.9574\n",
      "Epoch: [ 0] [  395/  468] time: 211.6433, train_loss: 0.33725506, train_accuracy: 0.9375, test_Accuracy: 0.9566\n",
      "Epoch: [ 0] [  396/  468] time: 212.1838, train_loss: 0.29865092, train_accuracy: 0.9375, test_Accuracy: 0.9561\n",
      "Epoch: [ 0] [  397/  468] time: 212.7305, train_loss: 0.24927482, train_accuracy: 0.9453, test_Accuracy: 0.9546\n",
      "Epoch: [ 0] [  398/  468] time: 213.2449, train_loss: 0.28531575, train_accuracy: 0.9375, test_Accuracy: 0.9546\n",
      "Epoch: [ 0] [  399/  468] time: 213.7637, train_loss: 0.21809277, train_accuracy: 0.9688, test_Accuracy: 0.9549\n",
      "Epoch: [ 0] [  400/  468] time: 214.2387, train_loss: 0.24426398, train_accuracy: 0.9375, test_Accuracy: 0.9537\n",
      "Epoch: [ 0] [  401/  468] time: 214.7168, train_loss: 0.14377835, train_accuracy: 0.9766, test_Accuracy: 0.9531\n",
      "Epoch: [ 0] [  402/  468] time: 215.1746, train_loss: 0.21762070, train_accuracy: 0.9609, test_Accuracy: 0.9519\n",
      "Epoch: [ 0] [  403/  468] time: 215.6492, train_loss: 0.24782491, train_accuracy: 0.9453, test_Accuracy: 0.9522\n",
      "Epoch: [ 0] [  404/  468] time: 216.1103, train_loss: 0.24146368, train_accuracy: 0.9609, test_Accuracy: 0.9536\n",
      "Epoch: [ 0] [  405/  468] time: 216.5883, train_loss: 0.24079534, train_accuracy: 0.9766, test_Accuracy: 0.9545\n",
      "Epoch: [ 0] [  406/  468] time: 217.0622, train_loss: 0.12396614, train_accuracy: 1.0000, test_Accuracy: 0.9548\n",
      "Epoch: [ 0] [  407/  468] time: 217.5788, train_loss: 0.39364913, train_accuracy: 0.9375, test_Accuracy: 0.9546\n",
      "Epoch: [ 0] [  408/  468] time: 218.1053, train_loss: 0.45199800, train_accuracy: 0.9062, test_Accuracy: 0.9544\n",
      "Epoch: [ 0] [  409/  468] time: 218.6229, train_loss: 0.22450721, train_accuracy: 0.9766, test_Accuracy: 0.9548\n",
      "Epoch: [ 0] [  410/  468] time: 219.2151, train_loss: 0.19302022, train_accuracy: 0.9375, test_Accuracy: 0.9549\n",
      "Epoch: [ 0] [  411/  468] time: 219.7615, train_loss: 0.14493981, train_accuracy: 0.9922, test_Accuracy: 0.9551\n",
      "Epoch: [ 0] [  412/  468] time: 220.3214, train_loss: 0.26344293, train_accuracy: 0.9531, test_Accuracy: 0.9544\n",
      "Epoch: [ 0] [  413/  468] time: 220.8409, train_loss: 0.31795555, train_accuracy: 0.9453, test_Accuracy: 0.9528\n",
      "Epoch: [ 0] [  414/  468] time: 221.3714, train_loss: 0.32030830, train_accuracy: 0.9609, test_Accuracy: 0.9523\n",
      "Epoch: [ 0] [  415/  468] time: 221.9542, train_loss: 0.32619908, train_accuracy: 0.9141, test_Accuracy: 0.9502\n",
      "Epoch: [ 0] [  416/  468] time: 222.5496, train_loss: 0.12105929, train_accuracy: 0.9609, test_Accuracy: 0.9483\n",
      "Epoch: [ 0] [  417/  468] time: 223.0325, train_loss: 0.31153166, train_accuracy: 0.9375, test_Accuracy: 0.9477\n",
      "Epoch: [ 0] [  418/  468] time: 223.4953, train_loss: 0.29608041, train_accuracy: 0.9531, test_Accuracy: 0.9485\n",
      "Epoch: [ 0] [  419/  468] time: 223.9647, train_loss: 0.34978539, train_accuracy: 0.9375, test_Accuracy: 0.9497\n",
      "Epoch: [ 0] [  420/  468] time: 224.4485, train_loss: 0.27727622, train_accuracy: 0.9531, test_Accuracy: 0.9523\n",
      "Epoch: [ 0] [  421/  468] time: 224.9374, train_loss: 0.49402004, train_accuracy: 0.9141, test_Accuracy: 0.9532\n",
      "Epoch: [ 0] [  422/  468] time: 225.4344, train_loss: 0.21109375, train_accuracy: 0.9531, test_Accuracy: 0.9525\n",
      "Epoch: [ 0] [  423/  468] time: 225.9186, train_loss: 0.25874394, train_accuracy: 0.9531, test_Accuracy: 0.9529\n",
      "Epoch: [ 0] [  424/  468] time: 226.4088, train_loss: 0.20904554, train_accuracy: 0.9688, test_Accuracy: 0.9525\n",
      "Epoch: [ 0] [  425/  468] time: 226.9325, train_loss: 0.26950181, train_accuracy: 0.9453, test_Accuracy: 0.9519\n",
      "Epoch: [ 0] [  426/  468] time: 227.4642, train_loss: 0.41582471, train_accuracy: 0.9141, test_Accuracy: 0.9525\n",
      "Epoch: [ 0] [  427/  468] time: 227.9739, train_loss: 0.29501790, train_accuracy: 0.9609, test_Accuracy: 0.9526\n",
      "Epoch: [ 0] [  428/  468] time: 228.5112, train_loss: 0.18861642, train_accuracy: 0.9609, test_Accuracy: 0.9524\n",
      "Epoch: [ 0] [  429/  468] time: 229.0541, train_loss: 0.17568666, train_accuracy: 0.9688, test_Accuracy: 0.9522\n",
      "Epoch: [ 0] [  430/  468] time: 229.6277, train_loss: 0.29816446, train_accuracy: 0.9453, test_Accuracy: 0.9530\n",
      "Epoch: [ 0] [  431/  468] time: 230.1322, train_loss: 0.24513206, train_accuracy: 0.9531, test_Accuracy: 0.9525\n",
      "Epoch: [ 0] [  432/  468] time: 230.6543, train_loss: 0.22315460, train_accuracy: 0.9766, test_Accuracy: 0.9533\n",
      "Epoch: [ 0] [  433/  468] time: 231.1553, train_loss: 0.29852805, train_accuracy: 0.9453, test_Accuracy: 0.9527\n",
      "Epoch: [ 0] [  434/  468] time: 231.6052, train_loss: 0.15199089, train_accuracy: 0.9453, test_Accuracy: 0.9530\n",
      "Epoch: [ 0] [  435/  468] time: 232.0577, train_loss: 0.30219111, train_accuracy: 0.9844, test_Accuracy: 0.9523\n",
      "Epoch: [ 0] [  436/  468] time: 232.5558, train_loss: 0.18601352, train_accuracy: 0.9844, test_Accuracy: 0.9514\n",
      "Epoch: [ 0] [  437/  468] time: 233.0272, train_loss: 0.17475682, train_accuracy: 0.9688, test_Accuracy: 0.9517\n",
      "Epoch: [ 0] [  438/  468] time: 233.4730, train_loss: 0.24929839, train_accuracy: 0.9609, test_Accuracy: 0.9522\n",
      "Epoch: [ 0] [  439/  468] time: 233.9696, train_loss: 0.31830490, train_accuracy: 0.9609, test_Accuracy: 0.9530\n",
      "Epoch: [ 0] [  440/  468] time: 234.4376, train_loss: 0.17309698, train_accuracy: 0.9609, test_Accuracy: 0.9540\n",
      "Epoch: [ 0] [  441/  468] time: 234.8988, train_loss: 0.22525908, train_accuracy: 0.9844, test_Accuracy: 0.9546\n",
      "Epoch: [ 0] [  442/  468] time: 235.3792, train_loss: 0.19711630, train_accuracy: 0.9688, test_Accuracy: 0.9563\n",
      "Epoch: [ 0] [  443/  468] time: 235.8630, train_loss: 0.27477333, train_accuracy: 0.9375, test_Accuracy: 0.9564\n"
     ]
    },
    {
     "name": "stdout",
     "output_type": "stream",
     "text": [
      "Epoch: [ 0] [  444/  468] time: 236.4208, train_loss: 0.07619910, train_accuracy: 0.9844, test_Accuracy: 0.9577\n",
      "Epoch: [ 0] [  445/  468] time: 236.9176, train_loss: 0.28062004, train_accuracy: 0.9453, test_Accuracy: 0.9566\n",
      "Epoch: [ 0] [  446/  468] time: 237.4165, train_loss: 0.32658601, train_accuracy: 0.9531, test_Accuracy: 0.9569\n",
      "Epoch: [ 0] [  447/  468] time: 237.9286, train_loss: 0.25464237, train_accuracy: 0.9375, test_Accuracy: 0.9565\n",
      "Epoch: [ 0] [  448/  468] time: 238.4302, train_loss: 0.25949988, train_accuracy: 0.9531, test_Accuracy: 0.9562\n",
      "Epoch: [ 0] [  449/  468] time: 238.9249, train_loss: 0.26204991, train_accuracy: 0.9609, test_Accuracy: 0.9559\n",
      "Epoch: [ 0] [  450/  468] time: 239.4034, train_loss: 0.35708478, train_accuracy: 0.9531, test_Accuracy: 0.9566\n",
      "Epoch: [ 0] [  451/  468] time: 239.8833, train_loss: 0.18486243, train_accuracy: 0.9766, test_Accuracy: 0.9567\n",
      "Epoch: [ 0] [  452/  468] time: 240.3872, train_loss: 0.23240197, train_accuracy: 0.9609, test_Accuracy: 0.9571\n",
      "Epoch: [ 0] [  453/  468] time: 240.8637, train_loss: 0.23746511, train_accuracy: 0.9688, test_Accuracy: 0.9578\n",
      "Epoch: [ 0] [  454/  468] time: 241.3630, train_loss: 0.28073257, train_accuracy: 0.9453, test_Accuracy: 0.9580\n",
      "Epoch: [ 0] [  455/  468] time: 241.8442, train_loss: 0.28563267, train_accuracy: 0.9688, test_Accuracy: 0.9567\n",
      "Epoch: [ 0] [  456/  468] time: 242.3239, train_loss: 0.21269874, train_accuracy: 0.9453, test_Accuracy: 0.9561\n",
      "Epoch: [ 0] [  457/  468] time: 242.8136, train_loss: 0.13584358, train_accuracy: 0.9766, test_Accuracy: 0.9554\n",
      "Epoch: [ 0] [  458/  468] time: 243.2965, train_loss: 0.15788454, train_accuracy: 0.9766, test_Accuracy: 0.9538\n",
      "Epoch: [ 0] [  459/  468] time: 243.8124, train_loss: 0.22215818, train_accuracy: 0.9531, test_Accuracy: 0.9529\n",
      "Epoch: [ 0] [  460/  468] time: 244.3150, train_loss: 0.10407728, train_accuracy: 0.9688, test_Accuracy: 0.9522\n",
      "Epoch: [ 0] [  461/  468] time: 244.8347, train_loss: 0.28034663, train_accuracy: 0.9688, test_Accuracy: 0.9532\n",
      "Epoch: [ 0] [  462/  468] time: 245.3487, train_loss: 0.39394867, train_accuracy: 0.9297, test_Accuracy: 0.9543\n",
      "Epoch: [ 0] [  463/  468] time: 245.8564, train_loss: 0.38069841, train_accuracy: 0.9141, test_Accuracy: 0.9552\n",
      "Epoch: [ 0] [  464/  468] time: 246.3624, train_loss: 0.15969184, train_accuracy: 0.9844, test_Accuracy: 0.9557\n",
      "Epoch: [ 0] [  465/  468] time: 246.9022, train_loss: 0.45109725, train_accuracy: 0.9531, test_Accuracy: 0.9567\n",
      "Epoch: [ 0] [  466/  468] time: 247.3976, train_loss: 0.35360843, train_accuracy: 0.9375, test_Accuracy: 0.9570\n",
      "Epoch: [ 0] [  467/  468] time: 247.8672, train_loss: 0.24964760, train_accuracy: 0.9609, test_Accuracy: 0.9566\n"
     ]
    }
   ],
   "source": [
    "if train_flag :\n",
    "    checkpoint = tf.train.Checkpoint(dnn=network)\n",
    "\n",
    "    # create writer for tensorboard\n",
    "    summary_writer = tf.summary.create_file_writer(logdir=logs_dir)\n",
    "    start_time = time()\n",
    "\n",
    "    # restore check-point if it exits\n",
    "    could_load, checkpoint_counter = load(network, checkpoint_dir)    \n",
    "\n",
    "    if could_load:\n",
    "        start_epoch = (int)(checkpoint_counter / training_iterations)        \n",
    "        counter = checkpoint_counter        \n",
    "        print(\" [*] Load SUCCESS\")\n",
    "    else:\n",
    "        start_epoch = 0\n",
    "        start_iteration = 0\n",
    "        counter = 0\n",
    "        print(\" [!] Load failed...\")\n",
    "    \n",
    "    # train phase\n",
    "    with summary_writer.as_default():  # for tensorboard\n",
    "        for epoch in range(start_epoch, training_epochs):\n",
    "            for idx, (train_input, train_label) in enumerate(train_dataset):            \n",
    "                grads = grad(network, train_input, train_label)\n",
    "                optimizer.apply_gradients(grads_and_vars=zip(grads, network.variables))\n",
    "\n",
    "                train_loss = loss_fn(network, train_input, train_label)\n",
    "                train_accuracy = accuracy_fn(network, train_input, train_label)\n",
    "                \n",
    "                for test_input, test_label in test_dataset:                \n",
    "                    test_accuracy = accuracy_fn(network, test_input, test_label)\n",
    "\n",
    "                tf.summary.scalar(name='train_loss', data=train_loss, step=counter)\n",
    "                tf.summary.scalar(name='train_accuracy', data=train_accuracy, step=counter)\n",
    "                tf.summary.scalar(name='test_accuracy', data=test_accuracy, step=counter)\n",
    "\n",
    "                print(\n",
    "                    \"Epoch: [%2d] [%5d/%5d] time: %4.4f, train_loss: %.8f, train_accuracy: %.4f, test_Accuracy: %.4f\" \\\n",
    "                    % (epoch, idx, training_iterations, time() - start_time, train_loss, train_accuracy,\n",
    "                       test_accuracy))\n",
    "                counter += 1                \n",
    "        checkpoint.save(file_prefix=checkpoint_prefix + '-{}'.format(counter))\n",
    "        \n",
    "# test phase      \n",
    "else :\n",
    "    _, _ = load(network, checkpoint_dir)\n",
    "    for test_input, test_label in test_dataset:    \n",
    "        test_accuracy = accuracy_fn(network, test_input, test_label)\n",
    "\n",
    "    print(\"test_Accuracy: %.4f\" % (test_accuracy))"
   ]
  },
  {
   "cell_type": "markdown",
   "metadata": {},
   "source": [
    "## 11.CNN basics"
   ]
  },
  {
   "cell_type": "code",
   "execution_count": 18,
   "metadata": {},
   "outputs": [
    {
     "name": "stdout",
     "output_type": "stream",
     "text": [
      "2.2.4-tf\n"
     ]
    }
   ],
   "source": [
    "from __future__ import absolute_import\n",
    "from __future__ import division\n",
    "from __future__ import print_function\n",
    "\n",
    "import tensorflow as tf\n",
    "from tensorflow import keras\n",
    "import matplotlib.pyplot as plt\n",
    "\n",
    "print(keras.__version__)"
   ]
  },
  {
   "cell_type": "code",
   "execution_count": 19,
   "metadata": {},
   "outputs": [
    {
     "name": "stdout",
     "output_type": "stream",
     "text": [
      "(1, 3, 3, 1)\n"
     ]
    },
    {
     "data": {
      "image/png": "[encoded data removed]",
      "text/plain": [
       "<Figure size 432x288 with 1 Axes>"
      ]
     },
     "metadata": {
      "needs_background": "light"
     },
     "output_type": "display_data"
    }
   ],
   "source": [
    "image = tf.constant([[[[1],[2],[3]],\n",
    "                   [[4],[5],[6]], \n",
    "                   [[7],[8],[9]]]], dtype=np.float32)\n",
    "print(image.shape)\n",
    "plt.imshow(image.numpy().reshape(3,3), cmap='Greys')\n",
    "plt.show()"
   ]
  },
  {
   "cell_type": "markdown",
   "metadata": {},
   "source": [
    "### 1 filter (2,2,1,1) with padding: VALID"
   ]
  },
  {
   "cell_type": "code",
   "execution_count": 20,
   "metadata": {},
   "outputs": [
    {
     "name": "stdout",
     "output_type": "stream",
     "text": [
      "image.shape (1, 3, 3, 1)\n",
      "weight.shape (2, 2, 1, 1)\n",
      "conv2d.shape (1, 2, 2, 1)\n",
      "[[12. 16.]\n",
      " [24. 28.]]\n"
     ]
    },
    {
     "data": {
      "image/png": "[encoded data removed]",
      "text/plain": [
       "<Figure size 432x288 with 1 Axes>"
      ]
     },
     "metadata": {
      "needs_background": "light"
     },
     "output_type": "display_data"
    }
   ],
   "source": [
    "print(\"image.shape\", image.shape)\n",
    "weight = np.array([[[[1.]],[[1.]]],\n",
    "                   [[[1.]],[[1.]]]])\n",
    "print(\"weight.shape\", weight.shape)\n",
    "weight_init = tf.constant_initializer(weight)\n",
    "conv2d = keras.layers.Conv2D(filters=1, kernel_size=2, padding='VALID', \n",
    "                             kernel_initializer=weight_init)(image)\n",
    "print(\"conv2d.shape\", conv2d.shape)\n",
    "print(conv2d.numpy().reshape(2,2))\n",
    "plt.imshow(conv2d.numpy().reshape(2,2), cmap='gray')\n",
    "plt.show()"
   ]
  },
  {
   "cell_type": "markdown",
   "metadata": {},
   "source": [
    "### 1 filter (2,2,1,1) with padding : SAME"
   ]
  },
  {
   "cell_type": "code",
   "execution_count": 21,
   "metadata": {},
   "outputs": [
    {
     "name": "stdout",
     "output_type": "stream",
     "text": [
      "image.shape (1, 3, 3, 1)\n",
      "weight.shape (2, 2, 1, 1)\n",
      "conv2d.shape (1, 3, 3, 1)\n",
      "[[12. 16.  9.]\n",
      " [24. 28. 15.]\n",
      " [15. 17.  9.]]\n"
     ]
    },
    {
     "data": {
      "image/png": "[encoded data removed]",
      "text/plain": [
       "<Figure size 432x288 with 1 Axes>"
      ]
     },
     "metadata": {
      "needs_background": "light"
     },
     "output_type": "display_data"
    }
   ],
   "source": [
    "print(\"image.shape\", image.shape)\n",
    "weight = np.array([[[[1.]],[[1.]]],\n",
    "                   [[[1.]],[[1.]]]])\n",
    "print(\"weight.shape\", weight.shape)\n",
    "weight_init = tf.constant_initializer(weight)\n",
    "conv2d = keras.layers.Conv2D(filters=1, kernel_size=2, padding='SAME', \n",
    "                             kernel_initializer=weight_init)(image)\n",
    "print(\"conv2d.shape\", conv2d.shape)\n",
    "print(conv2d.numpy().reshape(3,3))\n",
    "plt.imshow(conv2d.numpy().reshape(3,3), cmap='gray')\n",
    "plt.show()"
   ]
  },
  {
   "cell_type": "markdown",
   "metadata": {},
   "source": [
    "### 3 filters (2,2,1,3)"
   ]
  },
  {
   "cell_type": "code",
   "execution_count": 22,
   "metadata": {},
   "outputs": [
    {
     "name": "stdout",
     "output_type": "stream",
     "text": [
      "image.shape (1, 3, 3, 1)\n",
      "weight.shape (2, 2, 1, 3)\n",
      "conv2d.shape (1, 3, 3, 3)\n",
      "[[12. 16.  9.]\n",
      " [24. 28. 15.]\n",
      " [15. 17.  9.]]\n",
      "[[120. 160.  90.]\n",
      " [240. 280. 150.]\n",
      " [150. 170.  90.]]\n",
      "[[-12. -16.  -9.]\n",
      " [-24. -28. -15.]\n",
      " [-15. -17.  -9.]]\n"
     ]
    },
    {
     "data": {
      "image/png": "[encoded data removed]",
      "text/plain": [
       "<Figure size 432x288 with 3 Axes>"
      ]
     },
     "metadata": {
      "needs_background": "light"
     },
     "output_type": "display_data"
    }
   ],
   "source": [
    "# print(\"imag:\\n\", image)\n",
    "print(\"image.shape\", image.shape)\n",
    "\n",
    "weight = np.array([[[[1.,10.,-1.]],[[1.,10.,-1.]]],\n",
    "                   [[[1.,10.,-1.]],[[1.,10.,-1.]]]])\n",
    "print(\"weight.shape\", weight.shape)\n",
    "weight_init = tf.constant_initializer(weight)\n",
    "conv2d = keras.layers.Conv2D(filters=3, kernel_size=2, padding='SAME',\n",
    "                             kernel_initializer=weight_init)(image)\n",
    "print(\"conv2d.shape\", conv2d.shape)\n",
    "feature_maps = np.swapaxes(conv2d, 0, 3)\n",
    "for i, feature_map in enumerate(feature_maps):\n",
    "    print(feature_map.reshape(3,3))\n",
    "    plt.subplot(1,3,i+1), plt.imshow(feature_map.reshape(3,3), cmap='gray')\n",
    "plt.show()"
   ]
  },
  {
   "cell_type": "markdown",
   "metadata": {},
   "source": [
    "### MAX POLLING"
   ]
  },
  {
   "cell_type": "code",
   "execution_count": 23,
   "metadata": {},
   "outputs": [
    {
     "name": "stdout",
     "output_type": "stream",
     "text": [
      "(1, 1, 1, 1)\n",
      "[[[[4.]]]]\n"
     ]
    }
   ],
   "source": [
    "image = tf.constant([[[[4],[3]],\n",
    "                    [[2],[1]]]], dtype=np.float32)\n",
    "pool = keras.layers.MaxPool2D(pool_size=(2,2), strides=1, padding='VALID')(image)\n",
    "print(pool.shape)\n",
    "print(pool.numpy())"
   ]
  },
  {
   "cell_type": "markdown",
   "metadata": {},
   "source": [
    "### SAME : Zero paddings"
   ]
  },
  {
   "cell_type": "code",
   "execution_count": 24,
   "metadata": {},
   "outputs": [
    {
     "name": "stdout",
     "output_type": "stream",
     "text": [
      "(1, 2, 2, 1)\n",
      "[[[[4.]\n",
      "   [3.]]\n",
      "\n",
      "  [[2.]\n",
      "   [1.]]]]\n"
     ]
    }
   ],
   "source": [
    "image = tf.constant([[[[4],[3]],\n",
    "                    [[2],[1]]]], dtype=np.float32)\n",
    "pool = keras.layers.MaxPool2D(pool_size=(2,2), strides=1, padding='SAME')(image)\n",
    "print(pool.shape)\n",
    "print(pool.numpy())"
   ]
  },
  {
   "cell_type": "code",
   "execution_count": 25,
   "metadata": {},
   "outputs": [],
   "source": [
    "mnist = keras.datasets.mnist\n",
    "class_names = ['0', '1', '2', '3', '4', '5', '6', '7', '8', '9']\n",
    "#mnist = keras.datasets.fashion_mnist\n",
    "#class_names = ['T-shirt/top', 'Trouser', 'Pullover', 'Dress', 'Coat', 'Sandal', 'Shirt', 'Sneaker', 'Bag', 'Ankle boot']"
   ]
  },
  {
   "cell_type": "code",
   "execution_count": 26,
   "metadata": {},
   "outputs": [],
   "source": [
    "(train_images, train_labels), (test_images, test_labels) = mnist.load_data()"
   ]
  },
  {
   "cell_type": "code",
   "execution_count": 27,
   "metadata": {},
   "outputs": [],
   "source": [
    "train_images = train_images.astype(np.float32) / 255.\n",
    "test_images = test_images.astype(np.float32) / 255."
   ]
  },
  {
   "cell_type": "code",
   "execution_count": 28,
   "metadata": {},
   "outputs": [
    {
     "data": {
      "image/png": "[encoded data removed]",
      "text/plain": [
       "<Figure size 432x288 with 1 Axes>"
      ]
     },
     "metadata": {
      "needs_background": "light"
     },
     "output_type": "display_data"
    }
   ],
   "source": [
    "img = train_images[0]\n",
    "plt.imshow(img, cmap='gray')\n",
    "plt.show()"
   ]
  },
  {
   "cell_type": "code",
   "execution_count": 29,
   "metadata": {},
   "outputs": [
    {
     "name": "stdout",
     "output_type": "stream",
     "text": [
      "(1, 14, 14, 5)\n"
     ]
    },
    {
     "data": {
      "image/png": "[encoded data removed]",
      "text/plain": [
       "<Figure size 432x288 with 5 Axes>"
      ]
     },
     "metadata": {
      "needs_background": "light"
     },
     "output_type": "display_data"
    }
   ],
   "source": [
    "img = img.reshape(-1,28,28,1)\n",
    "img = tf.convert_to_tensor(img)\n",
    "weight_init = keras.initializers.RandomNormal(stddev=0.01)\n",
    "conv2d = keras.layers.Conv2D(filters=5, kernel_size=3, strides=(2, 2), padding='SAME', \n",
    "                             kernel_initializer=weight_init)(img)\n",
    "print(conv2d.shape)\n",
    "feature_maps = np.swapaxes(conv2d, 0, 3)\n",
    "for i, feature_map in enumerate(feature_maps):\n",
    "    plt.subplot(1,5,i+1), plt.imshow(feature_map.reshape(14,14), cmap='gray')\n",
    "plt.show()"
   ]
  },
  {
   "cell_type": "code",
   "execution_count": 30,
   "metadata": {},
   "outputs": [
    {
     "name": "stdout",
     "output_type": "stream",
     "text": [
      "(1, 7, 7, 5)\n"
     ]
    },
    {
     "data": {
      "image/png": "[encoded data removed]",
      "text/plain": [
       "<Figure size 432x288 with 5 Axes>"
      ]
     },
     "metadata": {
      "needs_background": "light"
     },
     "output_type": "display_data"
    }
   ],
   "source": [
    "pool = keras.layers.MaxPool2D(pool_size=(2, 2), strides=(2, 2), padding='SAME')(conv2d)\n",
    "print(pool.shape)\n",
    "\n",
    "feature_maps = np.swapaxes(pool, 0, 3)\n",
    "for i, feature_map in enumerate(feature_maps):\n",
    "    plt.subplot(1,5,i+1), plt.imshow(feature_map.reshape(7, 7), cmap='gray')\n",
    "plt.show()"
   ]
  },
  {
   "cell_type": "markdown",
   "metadata": {},
   "source": [
    "## 11.1 MNIST CNN keras sequential"
   ]
  },
  {
   "cell_type": "code",
   "execution_count": 31,
   "metadata": {},
   "outputs": [],
   "source": [
    "from tensorflow.keras.utils import to_categorical"
   ]
  },
  {
   "cell_type": "markdown",
   "metadata": {},
   "source": [
    "### Hypter Parameters"
   ]
  },
  {
   "cell_type": "code",
   "execution_count": 32,
   "metadata": {},
   "outputs": [],
   "source": [
    "learning_rate = 0.001\n",
    "training_epochs = 15\n",
    "batch_size = 100\n",
    "\n",
    "tf.random.set_seed(777)"
   ]
  },
  {
   "cell_type": "code",
   "execution_count": 33,
   "metadata": {},
   "outputs": [],
   "source": [
    "cur_dir = os.getcwd()\n",
    "ckpt_dir_name = 'checkpoints'\n",
    "model_dir_name = 'minst_cnn_seq'\n",
    "\n",
    "checkpoint_dir = os.path.join(cur_dir, ckpt_dir_name, model_dir_name)\n",
    "os.makedirs(checkpoint_dir, exist_ok=True)\n",
    "\n",
    "checkpoint_prefix = os.path.join(checkpoint_dir, model_dir_name)"
   ]
  },
  {
   "cell_type": "code",
   "execution_count": 34,
   "metadata": {},
   "outputs": [],
   "source": [
    "mnist = keras.datasets.mnist\n",
    "class_names = ['0', '1', '2', '3', '4', '5', '6', '7', '8', '9']"
   ]
  },
  {
   "cell_type": "code",
   "execution_count": 35,
   "metadata": {},
   "outputs": [],
   "source": [
    "(train_images, train_labels), (test_images, test_labels) = mnist.load_data()    \n",
    "    \n",
    "train_images = train_images.astype(np.float32) / 255.\n",
    "test_images = test_images.astype(np.float32) / 255.\n",
    "train_images = np.expand_dims(train_images, axis=-1)\n",
    "test_images = np.expand_dims(test_images, axis=-1)\n",
    "    \n",
    "train_labels = to_categorical(train_labels, 10)\n",
    "test_labels = to_categorical(test_labels, 10)    \n",
    "    \n",
    "train_dataset = tf.data.Dataset.from_tensor_slices((train_images, train_labels)).shuffle(\n",
    "                buffer_size=100000).batch(batch_size)\n",
    "test_dataset = tf.data.Dataset.from_tensor_slices((test_images, test_labels)).batch(batch_size)"
   ]
  },
  {
   "cell_type": "markdown",
   "metadata": {},
   "source": [
    "### Model Function"
   ]
  },
  {
   "cell_type": "code",
   "execution_count": 36,
   "metadata": {},
   "outputs": [],
   "source": [
    "def create_model():\n",
    "    model = keras.Sequential()\n",
    "    model.add(keras.layers.Conv2D(filters=32, kernel_size=3, activation=tf.nn.relu, padding='SAME', \n",
    "                                  input_shape=(28, 28, 1)))\n",
    "    model.add(keras.layers.MaxPool2D(padding='SAME'))\n",
    "    model.add(keras.layers.Conv2D(filters=64, kernel_size=3, activation=tf.nn.relu, padding='SAME'))\n",
    "    model.add(keras.layers.MaxPool2D(padding='SAME'))\n",
    "    model.add(keras.layers.Conv2D(filters=128, kernel_size=3, activation=tf.nn.relu, padding='SAME'))\n",
    "    model.add(keras.layers.MaxPool2D(padding='SAME'))\n",
    "    model.add(keras.layers.Flatten())\n",
    "    model.add(keras.layers.Dense(256, activation=tf.nn.relu))\n",
    "    model.add(keras.layers.Dropout(0.4))\n",
    "    model.add(keras.layers.Dense(10))\n",
    "    return model"
   ]
  },
  {
   "cell_type": "code",
   "execution_count": 37,
   "metadata": {},
   "outputs": [
    {
     "name": "stdout",
     "output_type": "stream",
     "text": [
      "Model: \"sequential_2\"\n",
      "_________________________________________________________________\n",
      "Layer (type)                 Output Shape              Param #   \n",
      "=================================================================\n",
      "conv2d_4 (Conv2D)            (None, 28, 28, 32)        320       \n",
      "_________________________________________________________________\n",
      "max_pooling2d_3 (MaxPooling2 (None, 14, 14, 32)        0         \n",
      "_________________________________________________________________\n",
      "conv2d_5 (Conv2D)            (None, 14, 14, 64)        18496     \n",
      "_________________________________________________________________\n",
      "max_pooling2d_4 (MaxPooling2 (None, 7, 7, 64)          0         \n",
      "_________________________________________________________________\n",
      "conv2d_6 (Conv2D)            (None, 7, 7, 128)         73856     \n",
      "_________________________________________________________________\n",
      "max_pooling2d_5 (MaxPooling2 (None, 4, 4, 128)         0         \n",
      "_________________________________________________________________\n",
      "flatten_2 (Flatten)          (None, 2048)              0         \n",
      "_________________________________________________________________\n",
      "dense_10 (Dense)             (None, 256)               524544    \n",
      "_________________________________________________________________\n",
      "dropout_4 (Dropout)          (None, 256)               0         \n",
      "_________________________________________________________________\n",
      "dense_11 (Dense)             (None, 10)                2570      \n",
      "=================================================================\n",
      "Total params: 619,786\n",
      "Trainable params: 619,786\n",
      "Non-trainable params: 0\n",
      "_________________________________________________________________\n"
     ]
    }
   ],
   "source": [
    "model = create_model()\n",
    "model.summary()"
   ]
  },
  {
   "cell_type": "markdown",
   "metadata": {},
   "source": [
    "### Loss function"
   ]
  },
  {
   "cell_type": "code",
   "execution_count": 38,
   "metadata": {},
   "outputs": [],
   "source": [
    "@tf.function\n",
    "def loss_fn(model, images, labels):\n",
    "    logits = model(images, training=True)\n",
    "    loss = tf.reduce_mean(tf.keras.losses.categorical_crossentropy(\n",
    "        y_pred=logits, y_true=labels, from_logits=True))    \n",
    "    return loss"
   ]
  },
  {
   "cell_type": "markdown",
   "metadata": {},
   "source": [
    "### Gradient 계산"
   ]
  },
  {
   "cell_type": "code",
   "execution_count": 39,
   "metadata": {},
   "outputs": [],
   "source": [
    "\n",
    "@tf.function\n",
    "def grad(model, images, labels):\n",
    "    with tf.GradientTape() as tape:\n",
    "        loss = loss_fn(model, images, labels)\n",
    "    return tape.gradient(loss, model.variables)"
   ]
  },
  {
   "cell_type": "markdown",
   "metadata": {},
   "source": [
    "### Accuracy"
   ]
  },
  {
   "cell_type": "code",
   "execution_count": 40,
   "metadata": {},
   "outputs": [],
   "source": [
    "@tf.function\n",
    "def evaluate(model, images, labels):\n",
    "    logits = model(images, training=False)\n",
    "    correct_prediction = tf.equal(tf.argmax(logits, 1), tf.argmax(labels, 1))\n",
    "    accuracy = tf.reduce_mean(tf.cast(correct_prediction, tf.float32))\n",
    "    return accuracy"
   ]
  },
  {
   "cell_type": "code",
   "execution_count": 41,
   "metadata": {},
   "outputs": [],
   "source": [
    "optimizer = tf.keras.optimizers.Adam(learning_rate=learning_rate)"
   ]
  },
  {
   "cell_type": "code",
   "execution_count": 42,
   "metadata": {},
   "outputs": [],
   "source": [
    "checkpoint = tf.train.Checkpoint(cnn=model)"
   ]
  },
  {
   "cell_type": "markdown",
   "metadata": {},
   "source": [
    "### Training"
   ]
  },
  {
   "cell_type": "code",
   "execution_count": 43,
   "metadata": {},
   "outputs": [],
   "source": [
    "@tf.function\n",
    "def train(model, images, labels):\n",
    "    grads = grad(model, images, labels)\n",
    "    optimizer.apply_gradients(zip(grads, model.trainable_variables))"
   ]
  },
  {
   "cell_type": "code",
   "execution_count": 44,
   "metadata": {},
   "outputs": [
    {
     "name": "stdout",
     "output_type": "stream",
     "text": [
      "Learning started. It takes sometime.\n",
      "Epoch: 1 loss = 0.16629034 train accuracy =  0.9576 test accuracy =  0.9848\n",
      "Epoch: 2 loss = 0.03998116 train accuracy =  0.9900 test accuracy =  0.9895\n",
      "Epoch: 3 loss = 0.02575062 train accuracy =  0.9935 test accuracy =  0.9921\n",
      "Epoch: 4 loss = 0.01899406 train accuracy =  0.9953 test accuracy =  0.9908\n",
      "Epoch: 5 loss = 0.01417278 train accuracy =  0.9965 test accuracy =  0.9914\n",
      "Epoch: 6 loss = 0.01185322 train accuracy =  0.9973 test accuracy =  0.9930\n",
      "Epoch: 7 loss = 0.00879558 train accuracy =  0.9981 test accuracy =  0.9927\n",
      "Epoch: 8 loss = 0.00730528 train accuracy =  0.9987 test accuracy =  0.9933\n",
      "Epoch: 9 loss = 0.00701355 train accuracy =  0.9985 test accuracy =  0.9931\n",
      "Epoch: 10 loss = 0.00457085 train accuracy =  0.9991 test accuracy =  0.9933\n",
      "Epoch: 11 loss = 0.00404258 train accuracy =  0.9992 test accuracy =  0.9929\n",
      "Epoch: 12 loss = 0.00332361 train accuracy =  0.9993 test accuracy =  0.9930\n",
      "Epoch: 13 loss = 0.00325895 train accuracy =  0.9992 test accuracy =  0.9912\n",
      "Epoch: 14 loss = 0.00265426 train accuracy =  0.9994 test accuracy =  0.9928\n",
      "Epoch: 15 loss = 0.00260899 train accuracy =  0.9995 test accuracy =  0.9928\n",
      "Learning Finished!\n"
     ]
    }
   ],
   "source": [
    "print('Learning started. It takes sometime.')\n",
    "for epoch in range(training_epochs):\n",
    "    avg_loss = 0.\n",
    "    avg_train_acc = 0.\n",
    "    avg_test_acc = 0.\n",
    "    train_step = 0\n",
    "    test_step = 0    \n",
    "    \n",
    "    for images, labels in train_dataset:\n",
    "        train(model, images, labels)\n",
    "        #grads = grad(model, images, labels)                \n",
    "        #optimizer.apply_gradients(zip(grads, model.variables))\n",
    "        loss = loss_fn(model, images, labels)\n",
    "        acc = evaluate(model, images, labels)\n",
    "        avg_loss = avg_loss + loss\n",
    "        avg_train_acc = avg_train_acc + acc\n",
    "        train_step += 1\n",
    "    avg_loss = avg_loss / train_step\n",
    "    avg_train_acc = avg_train_acc / train_step\n",
    "    \n",
    "    for images, labels in test_dataset:        \n",
    "        acc = evaluate(model, images, labels)        \n",
    "        avg_test_acc = avg_test_acc + acc\n",
    "        test_step += 1    \n",
    "    avg_test_acc = avg_test_acc / test_step    \n",
    "\n",
    "    print('Epoch:', '{}'.format(epoch + 1), 'loss =', '{:.8f}'.format(avg_loss), \n",
    "          'train accuracy = ', '{:.4f}'.format(avg_train_acc), \n",
    "          'test accuracy = ', '{:.4f}'.format(avg_test_acc))\n",
    "    \n",
    "    checkpoint.save(file_prefix=checkpoint_prefix)\n",
    "\n",
    "print('Learning Finished!')"
   ]
  },
  {
   "cell_type": "code",
   "execution_count": null,
   "metadata": {},
   "outputs": [],
   "source": []
  },
  {
   "cell_type": "code",
   "execution_count": null,
   "metadata": {},
   "outputs": [],
   "source": []
  },
  {
   "cell_type": "code",
   "execution_count": null,
   "metadata": {},
   "outputs": [],
   "source": []
  },
  {
   "cell_type": "code",
   "execution_count": null,
   "metadata": {},
   "outputs": [],
   "source": []
  },
  {
   "cell_type": "code",
   "execution_count": null,
   "metadata": {},
   "outputs": [],
   "source": []
  },
  {
   "cell_type": "code",
   "execution_count": null,
   "metadata": {},
   "outputs": [],
   "source": []
  },
  {
   "cell_type": "code",
   "execution_count": null,
   "metadata": {},
   "outputs": [],
   "source": []
  },
  {
   "cell_type": "code",
   "execution_count": null,
   "metadata": {},
   "outputs": [],
   "source": []
  }
 ],
 "metadata": {
  "kernelspec": {
   "display_name": "Python 3",
   "language": "python",
   "name": "python3"
  },
  "language_info": {
   "codemirror_mode": {
    "name": "ipython",
    "version": 3
   },
   "file_extension": ".py",
   "mimetype": "text/x-python",
   "name": "python",
   "nbconvert_exporter": "python",
   "pygments_lexer": "ipython3",
   "version": "3.7.9"
  }
 },
 "nbformat": 4,
 "nbformat_minor": 4
}
